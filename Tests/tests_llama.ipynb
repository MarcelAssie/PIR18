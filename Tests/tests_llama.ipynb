{
 "cells": [
  {
   "metadata": {
    "ExecuteTime": {
     "end_time": "2024-11-21T15:30:50.579520Z",
     "start_time": "2024-11-21T15:30:50.572220Z"
    }
   },
   "cell_type": "code",
   "source": [
    "# import torch, time,os, re, pandas as pd\n",
    "# import torch.nn as nn\n",
    "# from transformers import AutoTokenizer, AutoConfig, AutoModelForCausalLM"
   ],
   "id": "f1855737e950cf3",
   "outputs": [],
   "execution_count": 70
  },
  {
   "metadata": {
    "ExecuteTime": {
     "end_time": "2024-11-21T15:30:50.606295Z",
     "start_time": "2024-11-21T15:30:50.598190Z"
    }
   },
   "cell_type": "code",
   "source": [
    "# model_path = r\"C:\\Users\\jeanm\\.llama\\checkpoints\\llama-2-7b-chat-hf\"\n",
    "# model = AutoModelForCausalLM.from_pretrained(\n",
    "#     model_path,\n",
    "#     torch_dtype=torch.float32,\n",
    "#     device_map='cpu'\n",
    "# )\n",
    "# tokenizer = AutoTokenizer.from_pretrained(model_path)\n",
    "# inputs = tokenizer(\"She is\", return_tensors=\"pt\")\n",
    "# outputs = model.generate(**inputs, max_new_tokens=10)\n",
    "# # Décoder la réponse\n",
    "# print(tokenizer.decode(outputs[0], skip_special_tokens=True))"
   ],
   "id": "346da736e0a6e89a",
   "outputs": [],
   "execution_count": 71
  },
  {
   "metadata": {
    "ExecuteTime": {
     "end_time": "2024-11-21T15:30:50.728312Z",
     "start_time": "2024-11-21T15:30:50.713089Z"
    }
   },
   "cell_type": "code",
   "source": [
    "# # Fonction pour lire le contenu d'un fichier texte\n",
    "# def read_txt_file(file_path):\n",
    "#     with open(file_path, 'r', encoding='utf-8') as file:\n",
    "#         return file.read()\n",
    "#\n",
    "# # Fonction pour découper un texte en morceaux\n",
    "# def chunk_text(text):\n",
    "#     paragraphs = text.split(\"\\n\")\n",
    "#     results = []\n",
    "#     for paragraph in paragraphs:\n",
    "#         if paragraph.strip():\n",
    "#             results.append(paragraph)\n",
    "#     return results\n",
    "#\n",
    "# # Fonction pour extraire les mots-clés\n",
    "# def extract_keywords_from_chunks(chunks, llama_model_path):\n",
    "#\n",
    "#     # Charger le modèle LLaMA et le tokenizer\n",
    "#     model = AutoModelForCausalLM.from_pretrained(llama_model_path)\n",
    "#     tokenizer = AutoTokenizer.from_pretrained(llama_model_path)\n",
    "#\n",
    "#     generator = pipeline(\n",
    "#         model=model,\n",
    "#         tokenizer=tokenizer,\n",
    "#         task='text-generation',\n",
    "#         max_new_tokens=10,\n",
    "#         repetition_penalty=1.1,\n",
    "#         device='cpu'  # Exécuter sur CPU\n",
    "#     )\n",
    "#\n",
    "#     # Prompt pour extraire les mots-clés\n",
    "#     keyword_prompt = \"\"\"\n",
    "#     [INST]\n",
    "#\n",
    "#     I have the following document:\n",
    "#     - [DOCUMENT]\n",
    "#\n",
    "#     Please extract only the keywords related to the Sustainable Development Goals (SDGs) that are explicitly mentioned in this document.\n",
    "#     The keywords should consist of 2 to 3 words and should be meaningful within the context of this document.\n",
    "#     Ensure that the keywords are derived solely from the text provided and do not include any external references or interpretations.\n",
    "#     Return the keywords in a structured and readable format, without adding any extra explanations or phrases such as:\n",
    "#     \"Here are the keywords present in the document.\"\n",
    "#     [/INST]\n",
    "#     \"\"\"\n",
    "#\n",
    "#     keywords = []\n",
    "#     count = 0\n",
    "#     for chunk in chunks:\n",
    "#         count += 1\n",
    "#         print(f\"Traitement du paragraphe {count} sur {len(chunks)}\")\n",
    "#         prompt = keyword_prompt.replace(\"[DOCUMENT]\", chunk)\n",
    "#         generated_text = generator(prompt)[0]['generated_text']\n",
    "#\n",
    "#         # Nettoyage préliminaire des mots-clés extraits\n",
    "#         cleaned_keywords = [kw.replace('* ', '').strip() for kw in generated_text.split('\\n') if kw]\n",
    "#         keywords.append(cleaned_keywords)\n",
    "#         print(f\"Fin de traitement du paragraphe {count}\")\n",
    "#\n",
    "#     return keywords\n",
    "#\n",
    "# def clean_keywords(keywords, max_words=2):\n",
    "#     # Étape 1: Nettoyer les mots-clés\n",
    "#     cleaned_keywords = []\n",
    "#     for kw in keywords:\n",
    "#         cleaned_kw = kw.lstrip('- ').strip()\n",
    "#         cleaned_keywords.append(cleaned_kw)\n",
    "#\n",
    "#     # Étape 2: Supprimer les doublons tout en conservant l'ordre\n",
    "#     cleaned_keywords = list(dict.fromkeys([kw.lower() for kw in cleaned_keywords]))\n",
    "#\n",
    "#     # Étape 3: Retirer les numéros et points\n",
    "#     filtered_keywords = [re.sub(r\"^\\d+\\.\\s*\", \"\", keyword) for keyword in cleaned_keywords]\n",
    "#\n",
    "#     # Étape 4: Filtrer par nombre de mots\n",
    "#     results = []\n",
    "#     for kw in filtered_keywords:\n",
    "#         if len(kw.split()) <= max_words:  # Modifier pour <= max_words\n",
    "#             results.append(kw)\n",
    "#\n",
    "#     return results\n",
    "#\n",
    "# def start(txt_file, llama_model_path):\n",
    "#     start_time = time.time()\n",
    "#     print(f\"Début de traitement avec le modèle {llama_model_path}...\\n\")\n",
    "#\n",
    "#     # Charger le fichier texte\n",
    "#     document_content = read_txt_file(txt_file[0])\n",
    "#\n",
    "#     # Découper le texte en paragraphes\n",
    "#     chunks = chunk_text(document_content)\n",
    "#\n",
    "#     # Extraire les mots-clés de chaque morceau\n",
    "#     keywords = extract_keywords_from_chunks(chunks, llama_model_path)\n",
    "#\n",
    "#     # Aplatir les mots-clés dans une unique liste\n",
    "#     list_keywords = [keyword for sublist in keywords for keyword in sublist]\n",
    "#\n",
    "#     # Nettoyer les mots-clés\n",
    "#     cleaned_keywords = clean_keywords(list_keywords)\n",
    "#\n",
    "#     # Créer un DataFrame avec les mots-clés détectés\n",
    "#     keywords_df = pd.DataFrame(list_keywords, columns=[\"Keywords Detected\"])\n",
    "#\n",
    "#     # Créer un DataFrame avec les mots-clés nettoyés\n",
    "#     cleaned_keywords_df = pd.DataFrame(cleaned_keywords, columns=[\"Keywords Cleaned\"])\n",
    "#\n",
    "#     # Ajouter une colonne avec les mots-clés nettoyés, alignée sur les mots-clés détectés\n",
    "#     keywords_df[\"Keywords Cleaned\"] = pd.Series(cleaned_keywords_df[\"Keywords Cleaned\"].values)\n",
    "#\n",
    "#     end_time = time.time()\n",
    "#     duree = end_time - start_time\n",
    "#     print(f\"\\n...Fin de traitement avec le modèle {llama_model_path}\\nDurée d'exécution : {duree:.4f} secondes.\\n\")\n",
    "#     # display(keywords_df)\n",
    "#\n",
    "#     return keywords_df"
   ],
   "id": "40fbab45e906f2f1",
   "outputs": [],
   "execution_count": 72
  },
  {
   "metadata": {
    "ExecuteTime": {
     "end_time": "2024-11-21T15:30:50.839454Z",
     "start_time": "2024-11-21T15:30:50.832562Z"
    }
   },
   "cell_type": "code",
   "source": [
    "# model_path = r\"C:\\Users\\jeanm\\.llama\\checkpoints\\llama-2-7b-chat-hf\"\n",
    "# txt_file = [fichier for fichier in os.listdir() if fichier.lower().endswith('.txt')and \"Metadata\" in fichier]\n",
    "# start(txt_file, model_path)"
   ],
   "id": "a2e886dd7b6d6c0a",
   "outputs": [],
   "execution_count": 73
  },
  {
   "metadata": {
    "ExecuteTime": {
     "end_time": "2024-11-21T15:30:51.950312Z",
     "start_time": "2024-11-21T15:30:50.949773Z"
    }
   },
   "cell_type": "code",
   "source": [
    "# import os\n",
    "# from huggingface_hub import login\n",
    "#\n",
    "#\n",
    "# def login_hf():\n",
    "#     file_path = \"C:/Users/jeanm/Desktop/Ensg/Semestre3/ProjetRecherche/Ressources\"\n",
    "#     api_keys = [api_keys for api_keys in os.listdir(file_path) if \"api_keys\" in api_keys]\n",
    "#     with open(f\"{file_path}/{api_keys[0]}\", 'r', encoding='utf-8') as file:\n",
    "#         file = file.read()\n",
    "#         hugging_face_api_key= file.split(\"\\n\")[3]\n",
    "#         return hugging_face_api_key\n",
    "#\n",
    "# login(token=login_hf())"
   ],
   "id": "d7e53f9ec5d7ac77",
   "outputs": [
    {
     "name": "stdout",
     "output_type": "stream",
     "text": [
      "The token has not been saved to the git credentials helper. Pass `add_to_git_credential=True` in this function directly or `--add-to-git-credential` if using via `huggingface-cli` if you want to set the git credential as well.\n",
      "Token is valid (permission: fineGrained).\n",
      "Your token has been saved to C:\\Users\\jeanm\\.cache\\huggingface\\token\n",
      "Login successful\n"
     ]
    }
   ],
   "execution_count": 74
  },
  {
   "metadata": {
    "ExecuteTime": {
     "end_time": "2024-11-21T15:31:19.728730Z",
     "start_time": "2024-11-21T15:30:52.179705Z"
    }
   },
   "cell_type": "code",
   "source": [
    "# from transformers import AutoTokenizer, AutoModelForCausalLM\n",
    "#\n",
    "# # Charger le tokenizer et le modèle BLOOM\n",
    "# tokenizer = AutoTokenizer.from_pretrained(\"bigscience/bloom-1b1\")\n",
    "# model = AutoModelForCausalLM.from_pretrained(\"bigscience/bloom-1b1\")\n",
    "#\n",
    "# # Texte d'entrée pour l'extraction de mots-clés\n",
    "# text = \"Donnes moi 10 nombres \"\n",
    "#\n",
    "# # Créer un prompt spécifique pour extraire des mots-clés\n",
    "# prompt = (\n",
    "#     f\"Texte : {text}\\n\"\n",
    "#     \"Mots-clés :\"\n",
    "# )\n",
    "#\n",
    "# # Tokeniser l'entrée\n",
    "# inputs = tokenizer(prompt, return_tensors=\"pt\")\n",
    "#\n",
    "# # Générer des mots-clés\n",
    "# outputs = model.generate(\n",
    "#     inputs.input_ids,\n",
    "#     max_length=50,       # Longueur maximale de la réponse\n",
    "#     num_return_sequences=1,\n",
    "#     temperature=0.3,     # Contrôler la diversité des réponses\n",
    "# )\n",
    "#\n",
    "# # Décoder la sortie\n",
    "# generated_text = tokenizer.decode(outputs[0], skip_special_tokens=True)\n",
    "#\n",
    "# # Extraire les mots-clés de la réponse générée\n",
    "# keywords = generated_text.split(\"Mots-clés :\")[-1].strip()\n",
    "# print(\"Mots-clés extraits :\", keywords)\n"
   ],
   "id": "d4233852f011d03e",
   "outputs": [
    {
     "name": "stdout",
     "output_type": "stream",
     "text": [
      "Mots-clés extraits : Nombre, Nombre de, Nombre de, Nombre de, Nombre de, Nombre de, Nombre de, Nombre de, Nombre de, Nombre de, Nombre de, Nombre de, Nombre\n"
     ]
    }
   ],
   "execution_count": 75
  },
  {
   "metadata": {
    "ExecuteTime": {
     "end_time": "2024-11-21T15:31:19.757839Z",
     "start_time": "2024-11-21T15:31:19.748548Z"
    }
   },
   "cell_type": "code",
   "source": [
    "# from transformers import AutoModelForCausalLM, AutoTokenizer, pipeline\n",
    "# \n",
    "# model_name = \"EleutherAI/gpt-neo-2.7B\"\n",
    "# # model = AutoModelForCausalLM.from_pretrained(model_name)\n",
    "# # tokenizer = AutoTokenizer.from_pretrained(model_name)\n",
    "# \n",
    "# generator = pipeline(\"text-generation\", model=model_name)\n",
    "# \n",
    "# # Exemple d'entrée\n",
    "# prompt = \"What is the meaning of life ?\"\n",
    "# generated_text = generator(prompt, max_length=50, do_sample=True, temperature=0.9)\n",
    "# \n",
    "# print(generated_text)"
   ],
   "id": "ea632d0973533f42",
   "outputs": [],
   "execution_count": 76
  }
 ],
 "metadata": {
  "kernelspec": {
   "display_name": "Python 3 (ipykernel)",
   "language": "python",
   "name": "python3"
  },
  "language_info": {
   "codemirror_mode": {
    "name": "ipython",
    "version": 3
   },
   "file_extension": ".py",
   "mimetype": "text/x-python",
   "name": "python",
   "nbconvert_exporter": "python",
   "pygments_lexer": "ipython3",
   "version": "3.12.7"
  }
 },
 "nbformat": 4,
 "nbformat_minor": 5
}
