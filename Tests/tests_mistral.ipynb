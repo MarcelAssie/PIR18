{
 "cells": [
  {
   "cell_type": "code",
   "id": "284d12b5ea8926f9",
   "metadata": {
    "ExecuteTime": {
     "end_time": "2024-11-13T14:44:06.656249Z",
     "start_time": "2024-11-13T14:43:52.821129Z"
    }
   },
   "source": [
    "from ctransformers import AutoModelForCausalLM\n",
    "from huggingface_hub import login\n",
    "from transformers import AutoTokenizer, pipeline\n",
    "from keybert.llm import TextGeneration\n",
    "from keybert import KeyLLM\n",
    "import os, re, time, pandas as pd\n",
    "from numba import jit"
   ],
   "outputs": [
    {
     "name": "stderr",
     "output_type": "stream",
     "text": [
      "C:\\Users\\jeanm\\Desktop\\Ensg\\Semestre3\\ProjetRecherche\\PIR18\\venv\\Lib\\site-packages\\tqdm\\auto.py:21: TqdmWarning: IProgress not found. Please update jupyter and ipywidgets. See https://ipywidgets.readthedocs.io/en/stable/user_install.html\n",
      "  from .autonotebook import tqdm as notebook_tqdm\n"
     ]
    }
   ],
   "execution_count": 1
  },
  {
   "cell_type": "code",
   "id": "1bc398dad530b82c",
   "metadata": {
    "ExecuteTime": {
     "end_time": "2024-11-13T14:44:07.486239Z",
     "start_time": "2024-11-13T14:44:06.671787Z"
    }
   },
   "source": [
    "def login_hf():\n",
    "    file_path = \"C:/Users/jeanm/Desktop/Ensg/Semestre3/ProjetRecherche/Ressources\"\n",
    "    api_keys = [api_keys for api_keys in os.listdir(file_path) if \"api_keys\" in api_keys]\n",
    "    with open(f\"{file_path}/{api_keys[0]}\", 'r', encoding='utf-8') as file:\n",
    "        file = file.read()\n",
    "        hugging_face_api_key= file.split(\"\\n\")[3]\n",
    "        return hugging_face_api_key\n",
    "    \n",
    "login(token=login_hf())"
   ],
   "outputs": [
    {
     "name": "stdout",
     "output_type": "stream",
     "text": [
      "The token has not been saved to the git credentials helper. Pass `add_to_git_credential=True` in this function directly or `--add-to-git-credential` if using via `huggingface-cli` if you want to set the git credential as well.\n",
      "Token is valid (permission: fineGrained).\n",
      "Your token has been saved to C:\\Users\\jeanm\\.cache\\huggingface\\token\n",
      "Login successful\n"
     ]
    }
   ],
   "execution_count": 2
  },
  {
   "cell_type": "code",
   "id": "initial_id",
   "metadata": {
    "collapsed": true,
    "jupyter": {
     "outputs_hidden": true
    },
    "ExecuteTime": {
     "end_time": "2024-11-13T14:44:08.275749Z",
     "start_time": "2024-11-13T14:44:08.258126Z"
    }
   },
   "source": [
    "# Fonction pour lire le contenu d'un fichier texte\n",
    "def read_txt_file(file_path):\n",
    "    with open(file_path, 'r', encoding='utf-8') as file:\n",
    "        return file.read()\n",
    "\n",
    "# Fonction pour découper un texte en morceaux de 512 tokens\n",
    "def chunk_text(text):\n",
    "    paragraphs = text.split(\"\\n\")  \n",
    "    results = []\n",
    "    for paragraph in paragraphs:\n",
    "        if paragraph.strip():\n",
    "            results.append(paragraph)\n",
    "    return results\n",
    "\n",
    "# Fonction pour extraire les mots-clés\n",
    "def extract_keywords_from_chunks(chunks, test_model):\n",
    "    \n",
    "    # Charger le modèle et le tokenizer\n",
    "    model = AutoModelForCausalLM.from_pretrained(\n",
    "        \"TheBloke/Mistral-7B-Instruct-v0.1-GGUF\",\n",
    "        model_file=test_model,\n",
    "        model_type=\"mistral\",\n",
    "        gpu_layers=0,\n",
    "        hf=True\n",
    "    )\n",
    "    \n",
    "    tokenizer = AutoTokenizer.from_pretrained(\"mistralai/Mistral-7B-Instruct-v0.1\")\n",
    "    \n",
    "    generator = pipeline(\n",
    "        model=model,\n",
    "        tokenizer=tokenizer,\n",
    "        task='text-generation',\n",
    "        max_new_tokens=50,\n",
    "        repetition_penalty=1.1\n",
    "    )\n",
    "    \n",
    "    # Prompt pour extraire les mots-clés\n",
    "    keyword_prompt = \"\"\"\n",
    "    [INST]\n",
    "    \n",
    "    I have the following document:\n",
    "    - [DOCUMENT]\n",
    "    \n",
    "    Please extract only the keywords related to the Sustainable Development Goals (SDGs) that are explicitly mentioned in this document. \n",
    "    The keywords should consist of 2 to 3 words and should be meaningful within the context of this document. \n",
    "    Ensure that the keywords are derived solely from the text provided and do not include any external references or interpretations. \n",
    "    Return the keywords in a structured and readable format, without adding any extra explanations or phrases such as:\n",
    "    \"Here are the keywords present in the document.\"\n",
    "    [/INST]\n",
    "    \n",
    "    \"\"\"\n",
    "    keywords = []\n",
    "    count = 0\n",
    "    for chunk in chunks:\n",
    "        count += 1\n",
    "        print(f\"Traitement du paragraphe {count} sur {len(chunks)}\")\n",
    "        prompt = keyword_prompt.replace(\"[DOCUMENT]\", chunk)\n",
    "        llm = TextGeneration(generator, prompt=prompt)\n",
    "        kw_model = KeyLLM(llm)\n",
    "        extracted_keywords = kw_model.extract_keywords([chunk])\n",
    "\n",
    "        # Nettoyage préliminaire des mots-clés extraits\n",
    "        cleaned_keywords = [kw.replace('* ', '').strip() for kw in extracted_keywords[0][0].split('\\n') if kw]\n",
    "        keywords.append(cleaned_keywords)\n",
    "        print(f\"Fin de traitement du paragraghe {count}\")\n",
    "    return keywords\n",
    "\n",
    "\n",
    "def clean_keywords(keywords, max_words=2):\n",
    "    # Étape 1: Nettoyer les mots-clés des caractères  \n",
    "    cleaned_keywords = []\n",
    "    for kw in keywords:\n",
    "        cleaned_kw = kw.lstrip('- ').strip()  \n",
    "        cleaned_keywords.append(cleaned_kw)    \n",
    "\n",
    "    # Étape 2: Supprimer les doublons tout en conservant l'ordre\n",
    "    cleaned_keywords = list(dict.fromkeys([kw.lower() for kw in cleaned_keywords]))\n",
    "\n",
    "    # Etape 3 : Retirer les numéros et points\n",
    "    filtered_keywords = [re.sub(r\"^\\d+\\.\\s*\", \"\", keyword) for keyword in cleaned_keywords]\n",
    "    \n",
    "    # Etape 4 : Retirer les mots-clés contenant 'SGB', 'SGBS', 'Sustainable Development', 'indicator'\n",
    "    exclusion_terms = ['sdg','sdgs', 'sustainable development', 'sustainable development goals', 'indicator', 'sdg indicator']\n",
    "    filtered_keywords = [kw for kw in filtered_keywords if not any(excluded in kw.lower() for excluded in exclusion_terms)]\n",
    "\n",
    "    # Étape 5 : Filtrer par nombre de mots\n",
    "    results = []\n",
    "    for kw in filtered_keywords:\n",
    "        if  len(kw.split()) == max_words and not re.search(r'\\d+', kw):\n",
    "            results.append(kw)\n",
    "            \n",
    "    return results\n",
    "\n",
    "\n",
    "\n",
    "def processing(txt_file, model):\n",
    "    \n",
    "    start_time = time.time()\n",
    "    print(f\"Debut de traitement avec le modèle {model}...\\n\")\n",
    "    \n",
    "    # Charger le fichier texte\n",
    "    document_content = read_txt_file(txt_file[0])\n",
    "    \n",
    "    # Découper le texte en paragraphes\n",
    "    chunks = chunk_text(document_content)\n",
    "    \n",
    "    # Extraire les mots-clés de chaque morceau\n",
    "    keywords = extract_keywords_from_chunks(chunks, model)\n",
    "    \n",
    "     # Aplatir les mots-clés dans une unique liste\n",
    "    list_keywords = [keyword for sublist in keywords for keyword in sublist]\n",
    "    print(list_keywords)\n",
    "    \n",
    "    # Nettoyer les mots-clés\n",
    "    cleaned_keywords = clean_keywords(list_keywords)\n",
    "    print(cleaned_keywords)\n",
    "    \n",
    "    # Créer un DataFrame avec les mots-clés détectés\n",
    "    keywords_df = pd.DataFrame(list_keywords, columns=[\"Keywords Detected\"])\n",
    "    \n",
    "    # Créer un DataFrame avec les mots-clés nettoyés\n",
    "    cleaned_keywords_df = pd.DataFrame(cleaned_keywords, columns=[\"Keywords Cleaned\"])\n",
    "\n",
    "    # Ajouter une colonne avec les mots-clés nettoyés, alignée sur les mots-clés détectés\n",
    "    keywords_df[\"Keywords Cleaned\"] = pd.Series(cleaned_keywords_df[\"Keywords Cleaned\"].values)\n",
    "\n",
    "    end_time = time.time()\n",
    "    duree = end_time - start_time\n",
    "    print(f\"\\n...Fin de traitement avec le modèle {model}\\nDurée d'exécution : {duree:.4f} secondes.\\n\")\n",
    "    # display(keywords_df) \n",
    "   \n",
    "    return keywords_df"
   ],
   "outputs": [],
   "execution_count": 3
  },
  {
   "cell_type": "code",
   "id": "324ceef0701a8665",
   "metadata": {
    "ExecuteTime": {
     "end_time": "2024-11-13T14:44:08.297790Z",
     "start_time": "2024-11-13T14:44:08.290518Z"
    }
   },
   "source": [
    "model1 = \"mistral-7b-instruct-v0.1.Q4_K_M.gguf\"\n",
    "txt_file = [fichier for fichier in os.listdir() if fichier.lower().endswith('.txt')and \"Metadata\" in fichier]\n",
    "# start(txt_file, model1)"
   ],
   "outputs": [],
   "execution_count": 4
  },
  {
   "cell_type": "code",
   "id": "aeed054142689ce9",
   "metadata": {
    "ExecuteTime": {
     "start_time": "2024-11-13T14:44:08.359252Z"
    }
   },
   "source": [
    "# model2 = \"mistral-7b-instruct-v0.1.Q5_K_M.gguf\"\n",
    "processing(txt_file, model1)"
   ],
   "outputs": [
    {
     "name": "stdout",
     "output_type": "stream",
     "text": [
      "Début de traitement avec le modèle mistral-7b-instruct-v0.1.Q4_K_M.gguf...\n",
      "\n"
     ]
    },
    {
     "name": "stderr",
     "output_type": "stream",
     "text": [
      "Fetching 1 files: 100%|██████████| 1/1 [00:00<?, ?it/s]\n",
      "Fetching 1 files: 100%|██████████| 1/1 [00:00<00:00, 911.81it/s]\n",
      "CTransformersModel has generative capabilities, as `prepare_inputs_for_generation` is explicitly overwritten. However, it doesn't directly inherit from `GenerationMixin`. From 👉v4.50👈 onwards, `PreTrainedModel` will NOT inherit from `GenerationMixin`, and this model will lose the ability to call `generate` and other related functions.\n",
      "  - If you're using `trust_remote_code=True`, you can get rid of this warning by loading the model with an auto class. See https://huggingface.co/docs/transformers/en/model_doc/auto#auto-classes\n",
      "  - If you are the owner of the model architecture code, please modify your model class such that it inherits from `GenerationMixin` (after `PreTrainedModel`, otherwise you'll get an exception).\n",
      "  - If you are not the owner of the model architecture class, please contact the model code owner to update it.\n"
     ]
    }
   ],
   "execution_count": null
  }
 ],
 "metadata": {
  "kernelspec": {
   "display_name": "Python 3 (ipykernel)",
   "language": "python",
   "name": "python3"
  },
  "language_info": {
   "codemirror_mode": {
    "name": "ipython",
    "version": 3
   },
   "file_extension": ".py",
   "mimetype": "text/x-python",
   "name": "python",
   "nbconvert_exporter": "python",
   "pygments_lexer": "ipython3",
   "version": "3.12.7"
  }
 },
 "nbformat": 4,
 "nbformat_minor": 5
}
