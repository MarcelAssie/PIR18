{
 "cells": [
  {
   "cell_type": "code",
   "execution_count": null,
   "id": "1675a87a",
   "metadata": {},
   "outputs": [],
   "source": [
    "from keybert import KeyBERT\n",
    "from sentence_transformers import SentenceTransformer\n",
    "import os, sys, pandas as pd"
   ]
  },
  {
   "cell_type": "code",
   "execution_count": null,
   "id": "882a5c337483f764",
   "metadata": {},
   "outputs": [],
   "source": [
    "sys.path.append(os.path.abspath('..'))\n",
    "from Scripts.toolbox import read_txt_file, filter_similar_entities"
   ]
  },
  {
   "cell_type": "code",
   "execution_count": null,
   "id": "85847c70",
   "metadata": {},
   "outputs": [],
   "source": [
    "def entities_extractions(dossier):\n",
    "    \"\"\"\n",
    "    Extrait les mots-clés de fichiers texte dans un dossier et enregistre les résultats dans des fichiers séparés.\n",
    "\n",
    "    Paramètres:\n",
    "    dossier : str\n",
    "        Chemin vers le dossier contenant les fichiers texte (.txt).\n",
    "    \"\"\"\n",
    "\n",
    "    odd_number = dossier[-2:]\n",
    "    print(\"------------------------------------------------------------------------------------------------\")\n",
    "    print(f\"\\nDébut de traitement de l'ODD {odd_number}...\")\n",
    "    sentence_model = SentenceTransformer(\"all-MiniLM-L6-v2\")\n",
    "\n",
    "    # Liste des fichiers texte à traiter\n",
    "    txt_files = [fichier for fichier in os.listdir(dossier)\n",
    "                 if fichier.endswith(\".txt\") and \"keywords\" not in fichier]\n",
    "\n",
    "    keywords_ODD = []\n",
    "    print(\"Extraction des mots clés...\\n\")\n",
    "    for txt_file in txt_files:\n",
    "        # Convertir le fichier texte en une chaîne de caractères\n",
    "        texte = read_txt_file(f\"{dossier}/{txt_file}\")\n",
    "\n",
    "        # Configurer le modèle KeyBert pour l'extraction des mots-clés\n",
    "        kw_model = KeyBERT(model=sentence_model)\n",
    "        keywords = kw_model.extract_keywords(\n",
    "            texte,\n",
    "            keyphrase_ngram_range=(1, 2),   # Taille de mots/phrases clé(e)s\n",
    "            stop_words='english',           # Eliminer les mots usuels en anglais\n",
    "            use_maxsum=True,                # Eviter de séléectionner trop proches de sens\n",
    "            nr_candidates=20,               # Nombre d'éléments à étudier\n",
    "            top_n=10                        # Nombre d'éléments choisis\n",
    "        )\n",
    "        \n",
    "        # Filtrer les entités similaires\n",
    "        entities_filtered = filter_similar_entities(keywords, threshold=80)\n",
    "\n",
    "        # Filtrer les résultats par score et cible\n",
    "        filtered_keywords = [(kw[0], kw[1], txt_file[12:14]) for kw in entities_filtered if kw[1] > 0.5]\n",
    "        keywords_ODD.extend(filtered_keywords)\n",
    "\n",
    "    # Stockage des résultats en dataframe\n",
    "    df = pd.DataFrame(keywords_ODD, columns=[\"Mots-cles\", \"Scores\", \"Cibles\"])\n",
    "    grouped = df.groupby(\"Cibles\")\n",
    "    results_dfs = []\n",
    "    for cible, group in grouped :\n",
    "        df_targets = pd.DataFrame({f\"Cible {cible}\": group[\"Mots-cles\"].values, \"Scores\": group[\"Scores\"].values})\n",
    "        results_dfs.append(df_targets)\n",
    "    \n",
    "    final_results = pd.concat(results_dfs, axis=1)\n",
    "    \n",
    "    display(final_results)\n",
    "    \n",
    "    print(f\"...Fin de traitement de l'ODD {odd_number}\\n\")\n",
    "\n",
    "\n",
    "entities_extractions(\"../MetaData/ODD01\")"
   ]
  },
  {
   "cell_type": "code",
   "execution_count": null,
   "id": "6954c10a7f93758e",
   "metadata": {},
   "outputs": [],
   "source": [
    "# if __name__ == \"__main__\":\n",
    "#     # Exécution de tous les ODD\n",
    "#     path = \"../MetaData\"\n",
    "#     odd_files = os.listdir(path)\n",
    "#     for odd_file in odd_files:\n",
    "#         entities_extractions(f\"{path}/{odd_file}\")\n",
    "#         print(\"----------------------------------------------------------------------------------------------------------\")"
   ]
  }
 ],
 "metadata": {
  "kernelspec": {
   "display_name": "Python 3 (ipykernel)",
   "language": "python",
   "name": "python3"
  },
  "language_info": {
   "codemirror_mode": {
    "name": "ipython",
    "version": 3
   },
   "file_extension": ".py",
   "mimetype": "text/x-python",
   "name": "python",
   "nbconvert_exporter": "python",
   "pygments_lexer": "ipython3",
   "version": "3.12.7"
  }
 },
 "nbformat": 4,
 "nbformat_minor": 5
}
