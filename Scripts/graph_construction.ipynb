{
 "cells": [
  {
   "cell_type": "code",
   "id": "initial_id",
   "metadata": {
    "collapsed": true,
    "ExecuteTime": {
     "end_time": "2025-01-04T14:49:19.935285Z",
     "start_time": "2025-01-04T14:49:19.912823Z"
    }
   },
   "source": [
    "import os, csv, pandas as pd\n",
    "from py2neo import Graph"
   ],
   "outputs": [],
   "execution_count": 43
  },
  {
   "metadata": {
    "ExecuteTime": {
     "end_time": "2025-01-04T14:49:20.078868Z",
     "start_time": "2025-01-04T14:49:20.071017Z"
    }
   },
   "cell_type": "code",
   "source": [
    "files_path = \"../Output/DataLLM/llama\"\n",
    "files = os.listdir(files_path)"
   ],
   "id": "479a84e98d463b48",
   "outputs": [],
   "execution_count": 44
  },
  {
   "metadata": {
    "ExecuteTime": {
     "end_time": "2025-01-04T14:49:20.142330Z",
     "start_time": "2025-01-04T14:49:20.090882Z"
    }
   },
   "cell_type": "code",
   "source": "graph = Graph(\"bolt://localhost:7687\", auth=(\"neo4j\", \"@Martiale01\"))",
   "id": "9e2989283b9813e2",
   "outputs": [],
   "execution_count": 45
  },
  {
   "metadata": {
    "ExecuteTime": {
     "end_time": "2025-01-04T14:49:20.207245Z",
     "start_time": "2025-01-04T14:49:20.168525Z"
    }
   },
   "cell_type": "code",
   "source": [
    "Ontology_final = \"../Other/Ontology_final.csv\"\n",
    "\n",
    "with open(Ontology_final, encoding=\"utf-8\") as csvfile:\n",
    "    csvreader = csv.DictReader(csvfile, delimiter=';')\n",
    "    data = list(csvreader)\n",
    "\n",
    "df_Ontology_final = pd.DataFrame(data)"
   ],
   "id": "3af85da2966a7cd8",
   "outputs": [],
   "execution_count": 46
  },
  {
   "metadata": {
    "ExecuteTime": {
     "end_time": "2025-01-04T14:49:44.122617Z",
     "start_time": "2025-01-04T14:49:20.232725Z"
    }
   },
   "cell_type": "code",
   "source": [
    "for data in files :\n",
    "    df = pd.read_csv(f\"{files_path}/{data}\", delimiter=\";\")\n",
    "    for _, row in df.iterrows():\n",
    "        odd = row['ODD']\n",
    "        cible = row['Cible']\n",
    "        indicateur = row['Indicateur']\n",
    "        mot_cle = row['Mots-cles']\n",
    "\n",
    "         # Nous utilisons MERGE au lieu de CREATE afin de créer les nœuds ODD, Cible, Indicateur, Mots-clés sans doublons. Si le nœud existe déjà, il ne sera pas recréé\n",
    "        graph.run(f\"MERGE (s:SDG {{code: 'SDG{odd[3:5]}'}}) SET s.title = '{odd[8:]}'\")\n",
    "        graph.run(f\"MERGE (t:Target {{code: '{cible[6:11]}'}}) SET t.description = '{cible[14:]}'\")\n",
    "        graph.run(f\"MERGE (i:Indicator {{code: '{indicateur[11:19]}'}}) SET i.description = '{indicateur[22:]}'\")\n",
    "        graph.run(f'MERGE (k:Keyword {{word: \"{mot_cle}\"}})')\n",
    "\n",
    "        # Les relations entre les nœuds\n",
    "        graph.run(f\"\"\"\n",
    "            MATCH (s:SDG {{code: 'SDG{odd[3:5]}'}})\n",
    "            MATCH (t:Target {{code: '{cible[6:11]}'}})\n",
    "            MATCH (i:Indicator {{code: '{indicateur[11:19]}'}})\n",
    "            MATCH (k:Keyword {{word: \"{mot_cle}\"}})\n",
    "            MERGE (s)-[:contains]->(t)\n",
    "            MERGE (t)-[:contains]->(i)\n",
    "            MERGE (i)-[:measuredBy]->(k)\n",
    "        \"\"\")"
   ],
   "id": "3ffc13fcfa323007",
   "outputs": [],
   "execution_count": 47
  },
  {
   "metadata": {
    "ExecuteTime": {
     "end_time": "2025-01-04T14:51:04.647180Z",
     "start_time": "2025-01-04T14:49:44.181571Z"
    }
   },
   "cell_type": "code",
   "source": [
    "for _, row in df_Ontology_final.iterrows():\n",
    "    mot_cle = row['﻿keyword']\n",
    "    odd = row['classification']\n",
    "    odd = odd.replace(str(odd[3:]),str(f\"{int(odd[3:])+ 0:02}\"))\n",
    "    graph.run(f'MERGE (m:Topic {{word: \"{mot_cle}\"}})')\n",
    "    graph.run(f\"MERGE (s:SDG {{code: 'SDG{odd[3:5]}'}})\")\n",
    "    graph.run(f\"\"\"\n",
    "    MATCH (m:Topic {{word: \"{mot_cle}\"}}), (s:SDG {{code: \"SDG{odd[3:5]}\"}})\n",
    "    MERGE (s)-[:measuredBy]->(m)\n",
    "    \"\"\")"
   ],
   "id": "8c5c3b3c0ff54383",
   "outputs": [],
   "execution_count": 48
  }
 ],
 "metadata": {
  "kernelspec": {
   "display_name": "Python 3",
   "language": "python",
   "name": "python3"
  },
  "language_info": {
   "codemirror_mode": {
    "name": "ipython",
    "version": 2
   },
   "file_extension": ".py",
   "mimetype": "text/x-python",
   "name": "python",
   "nbconvert_exporter": "python",
   "pygments_lexer": "ipython2",
   "version": "2.7.6"
  }
 },
 "nbformat": 4,
 "nbformat_minor": 5
}
