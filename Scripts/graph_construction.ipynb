{
 "cells": [
  {
   "metadata": {},
   "cell_type": "code",
   "outputs": [],
   "execution_count": null,
   "source": [
    "import os, csv, pandas as pd\n",
    "from py2neo import Graph"
   ],
   "id": "7b0dc867bf12e67b"
  },
  {
   "metadata": {},
   "cell_type": "code",
   "outputs": [],
   "execution_count": null,
   "source": [
    "files_path = \"../Output/DataLLM/llama\"\n",
    "files = os.listdir(files_path)"
   ],
   "id": "7678b08070b4629b"
  },
  {
   "metadata": {},
   "cell_type": "code",
   "outputs": [],
   "execution_count": null,
   "source": "graph = Graph(\"bolt://localhost:7687\", auth=(\"neo4j\", \"@Martiale01\"))",
   "id": "ff54f93bcc7eda47"
  },
  {
   "metadata": {},
   "cell_type": "code",
   "outputs": [],
   "execution_count": null,
   "source": [
    "Ontology_final = \"../Other/Ontology_final.csv\"\n",
    "\n",
    "with open(Ontology_final, encoding=\"utf-8\") as csvfile:\n",
    "    csvreader = csv.DictReader(csvfile, delimiter=';')\n",
    "    data = list(csvreader)\n",
    "\n",
    "df_Ontology_final = pd.DataFrame(data)"
   ],
   "id": "1f9c8d952845215"
  },
  {
   "metadata": {},
   "cell_type": "code",
   "outputs": [],
   "execution_count": null,
   "source": [
    "for data in files :\n",
    "    df = pd.read_csv(f\"{files_path}/{data}\", delimiter=\";\")\n",
    "    for _, row in df.iterrows():\n",
    "        odd = row['ODD']\n",
    "        cible = row['Cible']\n",
    "        indicateur = row['Indicateur']\n",
    "        mot_cle = row['Mots-cles']\n",
    "\n",
    "         # Nous utilisons MERGE au lieu de CREATE afin de créer les nœuds ODD, Cible, Indicateur, Mots-clés sans doublons. Si le nœud existe déjà, il ne sera pas recréé\n",
    "        graph.run(f\"MERGE (s:SDG {{code: 'SDG{odd[3:5]}'}}) SET s.title = '{odd[8:]}'\")\n",
    "        graph.run(f\"MERGE (t:Target {{code: '{cible[6:11]}'}}) SET t.description = '{cible[14:]}'\")\n",
    "        graph.run(f\"MERGE (i:Indicator {{code: '{indicateur[11:19]}'}}) SET i.description = '{indicateur[22:]}'\")\n",
    "        graph.run(f'MERGE (k:Keyword {{word: \"{mot_cle}\"}})')\n",
    "\n",
    "        # Les relations entre les nœuds\n",
    "        graph.run(f\"\"\"\n",
    "            MATCH (s:SDG {{code: 'SDG{odd[3:5]}'}})\n",
    "            MATCH (t:Target {{code: '{cible[6:11]}'}})\n",
    "            MATCH (i:Indicator {{code: '{indicateur[11:19]}'}})\n",
    "            MATCH (k:Keyword {{word: \"{mot_cle}\"}})\n",
    "            MERGE (s)-[:contains]->(t)\n",
    "            MERGE (t)-[:contains]->(i)\n",
    "            MERGE (i)-[:measuredBy]->(k)\n",
    "        \"\"\")"
   ],
   "id": "6deb7acabeac61f6"
  },
  {
   "metadata": {},
   "cell_type": "code",
   "outputs": [],
   "execution_count": null,
   "source": [
    "for _, row in df_Ontology_final.iterrows():\n",
    "    mot_cle = row['﻿keyword']\n",
    "    odd = row['classification']\n",
    "    odd = odd.replace(str(odd[3:]),str(f\"{int(odd[3:])+ 0:02}\"))\n",
    "    graph.run(f'MERGE (m:Topic {{word: \"{mot_cle}\"}})')\n",
    "    graph.run(f\"MERGE (s:SDG {{code: 'SDG{odd[3:5]}'}})\")\n",
    "    graph.run(f\"\"\"\n",
    "    MATCH (m:Topic {{word: \"{mot_cle}\"}}), (s:SDG {{code: \"SDG{odd[3:5]}\"}})\n",
    "    MERGE (s)-[:measuredBy]->(m)\n",
    "    \"\"\")"
   ],
   "id": "349525f3aec39759"
  }
 ],
 "metadata": {
  "kernelspec": {
   "display_name": "Python 3",
   "language": "python",
   "name": "python3"
  },
  "language_info": {
   "codemirror_mode": {
    "name": "ipython",
    "version": 2
   },
   "file_extension": ".py",
   "mimetype": "text/x-python",
   "name": "python",
   "nbconvert_exporter": "python",
   "pygments_lexer": "ipython2",
   "version": "2.7.6"
  }
 },
 "nbformat": 4,
 "nbformat_minor": 5
}
