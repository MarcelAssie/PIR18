{
 "cells": [
  {
   "cell_type": "code",
   "id": "initial_id",
   "metadata": {
    "collapsed": true,
    "ExecuteTime": {
     "end_time": "2024-11-09T14:24:31.417656Z",
     "start_time": "2024-11-09T14:24:31.414152Z"
    }
   },
   "source": [
    "import os, pandas as pd\n",
    "from py2neo import Graph"
   ],
   "outputs": [],
   "execution_count": 9
  },
  {
   "metadata": {
    "ExecuteTime": {
     "end_time": "2024-11-09T14:24:31.429339Z",
     "start_time": "2024-11-09T14:24:31.424758Z"
    }
   },
   "cell_type": "code",
   "source": [
    "files_path = \"../Output/DataLLM\"\n",
    "files = os.listdir(files_path)\n",
    "print(files)"
   ],
   "id": "479a84e98d463b48",
   "outputs": [
    {
     "name": "stdout",
     "output_type": "stream",
     "text": [
      "['ODD01_keywords.csv', 'ODD02_keywords.csv', 'ODD03_keywords.csv', 'ODD04_keywords.csv', 'ODD05_keywords.csv']\n"
     ]
    }
   ],
   "execution_count": 10
  },
  {
   "metadata": {
    "ExecuteTime": {
     "end_time": "2024-11-09T14:25:52.503711Z",
     "start_time": "2024-11-09T14:25:52.426636Z"
    }
   },
   "cell_type": "code",
   "source": "graph = Graph(\"bolt://localhost:7687\", auth=(\"neo4j\", \"@Martiale01\"))",
   "id": "9e2989283b9813e2",
   "outputs": [],
   "execution_count": 13
  },
  {
   "metadata": {
    "ExecuteTime": {
     "end_time": "2024-11-09T14:24:31.539883Z",
     "start_time": "2024-11-09T14:24:31.520903Z"
    }
   },
   "cell_type": "code",
   "source": [
    "for data in files :\n",
    "    df = pd.read_csv(f\"{files_path}/{data}\")    \n",
    "    for _, row in df.iterrows():\n",
    "        od = row['ODD']\n",
    "        cible = row['Cible']\n",
    "        indicateur = row['Indicateur']\n",
    "        mot_cle = row['Mots-cles']\n",
    "\n",
    "         # Nous utilisons MERGE au lieu de CREATE afin de créer les nœuds ODD, Cible, Indicateur, Mots-clés sans doublons. Si le nœud existe déjà, il ne sera pas recréé\n",
    "        graph.run(f\"MERGE (o:ODD {{titre: '{od}'}})\")\n",
    "        graph.run(f\"MERGE (c:Cible {{titre: '{cible}'}})\")\n",
    "        graph.run(f\"MERGE (i:Indicateur {{code: '{indicateur}'}})\")\n",
    "        graph.run(f\"MERGE (m:MotCle {{mot: '{mot_cle}'}})\")\n",
    "\n",
    "        # Les relations entre les nœuds\n",
    "        graph.run(f\"\"\"\n",
    "        MATCH (o:ODD {{titre: '{od}'}}), (c:Cible {{titre: '{cible}'}}), \n",
    "              (i:Indicateur {{code: '{indicateur}'}}), (m:MotCle {{mot: '{mot_cle}'}})\n",
    "        MERGE (o)-[:CONTIENT]->(c)\n",
    "        MERGE (c)-[:CONTIENT]->(i)\n",
    "        MERGE (i)-[:CONTIENT]->(m)\n",
    "        \"\"\")\n",
    "    break"
   ],
   "id": "3ffc13fcfa323007",
   "outputs": [
    {
     "name": "stdout",
     "output_type": "stream",
     "text": [
      "     ODD        Cible           Indicateur             Mots-cles\n",
      "0  ODD01  Cible 01-01  Indicateur 01-01-01          poverty line\n",
      "1  ODD01  Cible 01-01  Indicateur 01-01-01  international prices\n",
      "2  ODD01  Cible 01-01  Indicateur 01-01-01     economic gradient\n",
      "3  ODD01  Cible 01-01  Indicateur 01-01-01        global poverty\n",
      "4  ODD01  Cible 01-01  Indicateur 01-01-01      absolute poverty\n",
      "     ODD        Cible           Indicateur             Mots-cles\n",
      "0  ODD02  Cible 02-01  Indicateur 02-01-01  dietary requirements\n",
      "1  ODD02  Cible 02-01  Indicateur 02-01-01         regular basis\n",
      "2  ODD02  Cible 02-01  Indicateur 02-01-02         food security\n",
      "3  ODD02  Cible 02-01  Indicateur 02-01-02      reference period\n",
      "4  ODD02  Cible 02-01  Indicateur 02-01-02          latent trait\n",
      "     ODD        Cible           Indicateur       Mots-cles\n",
      "0  ODD03  Cible 03-01  Indicateur 03-01-01     live births\n",
      "1  ODD03  Cible 03-01  Indicateur 03-01-01     time period\n",
      "2  ODD03  Cible 03-01  Indicateur 03-01-02    quality care\n",
      "3  ODD03  Cible 03-02  Indicateur 03-02-01  mortality rate\n",
      "4  ODD03  Cible 03-02  Indicateur 03-02-01     child death\n",
      "     ODD        Cible           Indicateur          Mots-cles\n",
      "0  ODD04  Cible 04-01  Indicateur 04-01-01       young people\n",
      "1  ODD04  Cible 04-01  Indicateur 04-01-01  proficiency level\n",
      "2  ODD04  Cible 04-01  Indicateur 04-01-01  primary education\n",
      "3  ODD04  Cible 04-01  Indicateur 04-01-01    gender equality\n",
      "4  ODD04  Cible 04-01  Indicateur 04-01-01        clean water\n",
      "     ODD        Cible           Indicateur         Mots-cles\n",
      "0  ODD05  Cible 05-01  Indicateur 05-01-01    climate change\n",
      "1  ODD05  Cible 05-01  Indicateur 05-01-01  legal frameworks\n",
      "2  ODD05  Cible 05-01  Indicateur 05-01-01   gender equality\n",
      "3  ODD05  Cible 05-01  Indicateur 05-01-01   gender equality\n",
      "4  ODD05  Cible 05-01  Indicateur 05-01-01  legal frameworks\n"
     ]
    }
   ],
   "execution_count": 12
  }
 ],
 "metadata": {
  "kernelspec": {
   "display_name": "Python 3",
   "language": "python",
   "name": "python3"
  },
  "language_info": {
   "codemirror_mode": {
    "name": "ipython",
    "version": 2
   },
   "file_extension": ".py",
   "mimetype": "text/x-python",
   "name": "python",
   "nbconvert_exporter": "python",
   "pygments_lexer": "ipython2",
   "version": "2.7.6"
  }
 },
 "nbformat": 4,
 "nbformat_minor": 5
}
