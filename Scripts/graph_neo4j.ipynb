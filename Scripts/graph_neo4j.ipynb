{
 "cells": [
  {
   "cell_type": "code",
   "id": "initial_id",
   "metadata": {
    "collapsed": true,
    "ExecuteTime": {
     "end_time": "2024-11-30T10:30:23.524745Z",
     "start_time": "2024-11-30T10:30:23.513133Z"
    }
   },
   "source": [
    "import os, csv, pandas as pd\n",
    "from py2neo import Graph"
   ],
   "outputs": [],
   "execution_count": 19
  },
  {
   "metadata": {
    "ExecuteTime": {
     "end_time": "2024-11-30T10:30:23.584119Z",
     "start_time": "2024-11-30T10:30:23.569794Z"
    }
   },
   "cell_type": "code",
   "source": [
    "files_path = \"../Output/DataLLM/llama\"\n",
    "files = os.listdir(files_path)"
   ],
   "id": "479a84e98d463b48",
   "outputs": [],
   "execution_count": 20
  },
  {
   "metadata": {
    "ExecuteTime": {
     "end_time": "2024-11-30T10:30:23.625713Z",
     "start_time": "2024-11-30T10:30:23.599167Z"
    }
   },
   "cell_type": "code",
   "source": "graph = Graph(\"bolt://localhost:7687\", auth=(\"neo4j\", \"@Martiale01\"))",
   "id": "9e2989283b9813e2",
   "outputs": [],
   "execution_count": 21
  },
  {
   "metadata": {
    "ExecuteTime": {
     "end_time": "2024-11-30T10:30:23.687418Z",
     "start_time": "2024-11-30T10:30:23.651563Z"
    }
   },
   "cell_type": "code",
   "source": [
    "Ontology_final = \"../Other/Ontology_final.csv\"\n",
    "\n",
    "with open(Ontology_final, encoding=\"utf-8\") as csvfile:\n",
    "    csvreader = csv.DictReader(csvfile, delimiter=';')\n",
    "    data = list(csvreader)\n",
    "\n",
    "df_Ontology_final = pd.DataFrame(data)"
   ],
   "id": "3af85da2966a7cd8",
   "outputs": [],
   "execution_count": 22
  },
  {
   "metadata": {
    "ExecuteTime": {
     "end_time": "2024-11-30T10:30:41.160827Z",
     "start_time": "2024-11-30T10:30:23.717659Z"
    }
   },
   "cell_type": "code",
   "source": [
    "for data in files :\n",
    "    df = pd.read_csv(f\"{files_path}/{data}\", delimiter=\";\")\n",
    "    for _, row in df.iterrows():\n",
    "        odd = row['ODD']\n",
    "        cible = row['Cible']\n",
    "        indicateur = row['Indicateur']\n",
    "        mot_cle = row['Mots-cles']\n",
    "\n",
    "         # Nous utilisons MERGE au lieu de CREATE afin de créer les nœuds ODD, Cible, Indicateur, Mots-clés sans doublons. Si le nœud existe déjà, il ne sera pas recréé\n",
    "        graph.run(f\"MERGE (s:SDG {{code: 'SDG{odd[3:5]}'}}) SET s.title = '{odd[8:]}'\")\n",
    "        graph.run(f\"MERGE (t:Target {{code: '{cible[6:12]}'}}) SET t.description = '{cible[14:]}'\")\n",
    "        graph.run(f\"MERGE (i:Indicator {{code: '{indicateur[11:19]}'}}) SET i.description = '{indicateur[22:]}'\")\n",
    "        graph.run(f'MERGE (k:Keyword {{word: \"{mot_cle}\"}})')\n",
    "\n",
    "        # Les relations entre les nœuds\n",
    "        graph.run(f\"\"\"\n",
    "            MATCH (s:SDG {{code: 'SDG{odd[3:5]}'}})\n",
    "            MATCH (t:Target {{code: '{cible[6:12]}'}})\n",
    "            MATCH (i:Indicator {{code: '{indicateur[11:19]}'}})\n",
    "            MATCH (k:Keyword {{word: \"{mot_cle}\"}})\n",
    "            MERGE (s)-[:contain]->(t)\n",
    "            MERGE (t)-[:contain]->(i)\n",
    "            MERGE (i)-[:measuredBy]->(k)\n",
    "        \"\"\")"
   ],
   "id": "3ffc13fcfa323007",
   "outputs": [],
   "execution_count": 23
  },
  {
   "metadata": {
    "ExecuteTime": {
     "end_time": "2024-11-30T10:32:23.753486Z",
     "start_time": "2024-11-30T10:30:41.188193Z"
    }
   },
   "cell_type": "code",
   "source": [
    "for _, row in df_Ontology_final.iterrows():\n",
    "    mot_cle = row['﻿keyword']\n",
    "    odd = row['classification']\n",
    "    odd = odd.replace(str(odd[3:]),str(f\"{int(odd[3:])+ 0:02}\"))\n",
    "    graph.run(f'MERGE (m:Topic {{word: \"{mot_cle}\"}})')\n",
    "    graph.run(f\"MERGE (s:SDG {{code: 'SDG{odd[3:5]}'}})\")\n",
    "    graph.run(f\"\"\"\n",
    "    MATCH (m:Topic {{word: \"{mot_cle}\"}}), (s:SDG {{code: \"SDG{odd[3:5]}\"}})\n",
    "    MERGE (s)-[:measuredBy]->(m)\n",
    "    \"\"\")"
   ],
   "id": "8c5c3b3c0ff54383",
   "outputs": [],
   "execution_count": 24
  }
 ],
 "metadata": {
  "kernelspec": {
   "display_name": "Python 3",
   "language": "python",
   "name": "python3"
  },
  "language_info": {
   "codemirror_mode": {
    "name": "ipython",
    "version": 2
   },
   "file_extension": ".py",
   "mimetype": "text/x-python",
   "name": "python",
   "nbconvert_exporter": "python",
   "pygments_lexer": "ipython2",
   "version": "2.7.6"
  }
 },
 "nbformat": 4,
 "nbformat_minor": 5
}
