{
 "cells": [
  {
   "cell_type": "code",
   "id": "initial_id",
   "metadata": {
    "collapsed": true,
    "ExecuteTime": {
     "end_time": "2024-11-09T14:42:25.987940Z",
     "start_time": "2024-11-09T14:42:25.094892Z"
    }
   },
   "source": [
    "import os, pandas as pd\n",
    "from py2neo import Graph"
   ],
   "outputs": [],
   "execution_count": 1
  },
  {
   "metadata": {
    "ExecuteTime": {
     "end_time": "2024-11-09T14:42:25.996441Z",
     "start_time": "2024-11-09T14:42:25.992026Z"
    }
   },
   "cell_type": "code",
   "source": [
    "files_path = \"../Output/DataLLM\"\n",
    "files = os.listdir(files_path)\n",
    "print(files)"
   ],
   "id": "479a84e98d463b48",
   "outputs": [
    {
     "name": "stdout",
     "output_type": "stream",
     "text": [
      "['ODD01_keywords.csv', 'ODD02_keywords.csv', 'ODD03_keywords.csv', 'ODD04_keywords.csv', 'ODD05_keywords.csv']\n"
     ]
    }
   ],
   "execution_count": 2
  },
  {
   "metadata": {
    "ExecuteTime": {
     "end_time": "2024-11-09T14:42:26.381255Z",
     "start_time": "2024-11-09T14:42:26.296467Z"
    }
   },
   "cell_type": "code",
   "source": "graph = Graph(\"bolt://localhost:7687\", auth=(\"neo4j\", \"@Martiale01\"))",
   "id": "9e2989283b9813e2",
   "outputs": [],
   "execution_count": 3
  },
  {
   "metadata": {
    "ExecuteTime": {
     "end_time": "2024-11-09T14:42:45.601305Z",
     "start_time": "2024-11-09T14:42:26.390216Z"
    }
   },
   "cell_type": "code",
   "source": [
    "for data in files :\n",
    "    df = pd.read_csv(f\"{files_path}/{data}\")    \n",
    "    for _, row in df.iterrows():\n",
    "        od = row['ODD']\n",
    "        cible = row['Cible']\n",
    "        indicateur = row['Indicateur']\n",
    "        mot_cle = row['Mots-cles']\n",
    "\n",
    "         # Nous utilisons MERGE au lieu de CREATE afin de créer les nœuds ODD, Cible, Indicateur, Mots-clés sans doublons. Si le nœud existe déjà, il ne sera pas recréé\n",
    "        graph.run(f\"MERGE (o:ODD {{titre: '{od}'}})\")\n",
    "        graph.run(f\"MERGE (c:Cible {{titre: '{cible}'}})\")\n",
    "        graph.run(f\"MERGE (i:Indicateur {{code: '{indicateur}'}})\")\n",
    "        graph.run(f'MERGE (m:MotCle {{mot: \"{mot_cle}\"}})')\n",
    "\n",
    "        # Les relations entre les nœuds\n",
    "        graph.run(f\"\"\"\n",
    "        MATCH (o:ODD {{titre: \"{od}\"}}), (c:Cible {{titre: \"{cible}\"}}), \n",
    "              (i:Indicateur {{code: \"{indicateur}\"}}), (m:MotCle {{mot: \"{mot_cle}\"}})\n",
    "        MERGE (o)-[:CONTIENT]->(c)\n",
    "        MERGE (c)-[:CONTIENT]->(i)\n",
    "        MERGE (i)-[:CONTIENT]->(m)\n",
    "        \"\"\")"
   ],
   "id": "3ffc13fcfa323007",
   "outputs": [],
   "execution_count": 4
  }
 ],
 "metadata": {
  "kernelspec": {
   "display_name": "Python 3",
   "language": "python",
   "name": "python3"
  },
  "language_info": {
   "codemirror_mode": {
    "name": "ipython",
    "version": 2
   },
   "file_extension": ".py",
   "mimetype": "text/x-python",
   "name": "python",
   "nbconvert_exporter": "python",
   "pygments_lexer": "ipython2",
   "version": "2.7.6"
  }
 },
 "nbformat": 4,
 "nbformat_minor": 5
}
