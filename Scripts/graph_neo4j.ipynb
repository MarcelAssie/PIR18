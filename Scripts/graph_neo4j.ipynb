{
 "cells": [
  {
   "cell_type": "code",
   "id": "initial_id",
   "metadata": {
    "collapsed": true,
    "ExecuteTime": {
     "end_time": "2024-11-20T06:57:05.129285Z",
     "start_time": "2024-11-20T06:57:02.545028Z"
    }
   },
   "source": [
    "import os, csv, pandas as pd\n",
    "from py2neo import Graph"
   ],
   "outputs": [],
   "execution_count": 1
  },
  {
   "metadata": {
    "ExecuteTime": {
     "end_time": "2024-11-20T06:57:05.168340Z",
     "start_time": "2024-11-20T06:57:05.159261Z"
    }
   },
   "cell_type": "code",
   "source": [
    "files_path = \"../Output/DataLLM\"\n",
    "files = os.listdir(files_path)"
   ],
   "id": "479a84e98d463b48",
   "outputs": [],
   "execution_count": 2
  },
  {
   "metadata": {
    "ExecuteTime": {
     "end_time": "2024-11-20T06:57:06.703802Z",
     "start_time": "2024-11-20T06:57:06.506161Z"
    }
   },
   "cell_type": "code",
   "source": "graph = Graph(\"bolt://localhost:7687\", auth=(\"neo4j\", \"@Martiale01\"))",
   "id": "9e2989283b9813e2",
   "outputs": [],
   "execution_count": 3
  },
  {
   "metadata": {
    "ExecuteTime": {
     "end_time": "2024-11-20T06:57:36.121928Z",
     "start_time": "2024-11-20T06:57:07.304941Z"
    }
   },
   "cell_type": "code",
   "source": [
    "for data in files :\n",
    "    df = pd.read_csv(f\"{files_path}/{data}\", delimiter=\",\")\n",
    "    for _, row in df.iterrows():\n",
    "        odd = row['ODD']\n",
    "        cible = row['Cible']\n",
    "        indicateur = row['Indicateur']\n",
    "        mot_cle = row['Mots-cles']\n",
    "\n",
    "         # Nous utilisons MERGE au lieu de CREATE afin de créer les nœuds ODD, Cible, Indicateur, Mots-clés sans doublons. Si le nœud existe déjà, il ne sera pas recréé\n",
    "        graph.run(f\"MERGE (o:ODD {{code: '{odd[:5]}'}}) SET o.titre = '{odd[8:]}'\")\n",
    "        graph.run(f\"MERGE (c:Cible {{code: '{cible[6:12]}'}}) SET c.titre = '{cible[14:]}'\")\n",
    "        graph.run(f\"MERGE (i:Indicateur {{code: '{indicateur[11:19]}'}}) SET i.titre = '{indicateur[22:]}'\")\n",
    "        graph.run(f'MERGE (m:MotCle {{mot: \"{mot_cle}\"}})')\n",
    "\n",
    "        # Les relations entre les nœuds\n",
    "        graph.run(f\"\"\"\n",
    "            MATCH (o:ODD {{code: '{odd[:5]}'}}),\n",
    "                  (c:Cible {{code: '{cible[6:12]}'}}),\n",
    "                  (i:Indicateur {{code: '{indicateur[11:19]}'}}),\n",
    "                  (m:MotCle {{mot: '{mot_cle}'}})\n",
    "            MERGE (o)-[:CONTIENT]->(c)\n",
    "            MERGE (c)-[:CONTIENT]->(i)\n",
    "            MERGE (i)-[:CONTIENT]->(m)\n",
    "        \"\"\")\n"
   ],
   "id": "3ffc13fcfa323007",
   "outputs": [],
   "execution_count": 4
  },
  {
   "metadata": {
    "ExecuteTime": {
     "end_time": "2024-11-20T06:57:36.292446Z",
     "start_time": "2024-11-20T06:57:36.260869Z"
    }
   },
   "cell_type": "code",
   "source": [
    "Ontology_final = \"../Other/Ontology_final.csv\"\n",
    "\n",
    "with open(Ontology_final, encoding=\"utf-8\") as csvfile:\n",
    "    csvreader = csv.DictReader(csvfile, delimiter=';')\n",
    "    data = list(csvreader)\n",
    "\n",
    "df_Ontology_final = pd.DataFrame(data)"
   ],
   "id": "3af85da2966a7cd8",
   "outputs": [],
   "execution_count": 5
  },
  {
   "metadata": {
    "ExecuteTime": {
     "end_time": "2024-11-20T06:58:51.794921Z",
     "start_time": "2024-11-20T06:57:36.306548Z"
    }
   },
   "cell_type": "code",
   "source": [
    "for _, row in df_Ontology_final.iterrows():\n",
    "    mot_cle = row['﻿keyword']\n",
    "    classification = row['classification']\n",
    "    graph.run(f'MERGE (k:Keyword {{mot: \"{mot_cle}\"}})')\n",
    "    graph.run(f\"MERGE (g:Goal {{titre: '{classification}'}})\")\n",
    "    graph.run(f\"\"\"\n",
    "    MATCH (k:Keyword {{mot: \"{mot_cle}\"}}), (g:Goal {{titre: \"{classification}\"}})\n",
    "    MERGE (g)-[:CONTIENT]->(k)\n",
    "    \"\"\")\n"
   ],
   "id": "8c5c3b3c0ff54383",
   "outputs": [],
   "execution_count": 6
  }
 ],
 "metadata": {
  "kernelspec": {
   "display_name": "Python 3",
   "language": "python",
   "name": "python3"
  },
  "language_info": {
   "codemirror_mode": {
    "name": "ipython",
    "version": 2
   },
   "file_extension": ".py",
   "mimetype": "text/x-python",
   "name": "python",
   "nbconvert_exporter": "python",
   "pygments_lexer": "ipython2",
   "version": "2.7.6"
  }
 },
 "nbformat": 4,
 "nbformat_minor": 5
}
