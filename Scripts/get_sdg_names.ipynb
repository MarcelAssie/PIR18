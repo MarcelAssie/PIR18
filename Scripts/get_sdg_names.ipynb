{
 "cells": [
  {
   "metadata": {
    "ExecuteTime": {
     "end_time": "2024-11-05T21:57:37.754348Z",
     "start_time": "2024-11-05T21:57:36.208969Z"
    }
   },
   "cell_type": "code",
   "source": [
    "import requests, pandas as pd\n",
    "from bs4 import BeautifulSoup"
   ],
   "id": "d641a9bddc0ed80a",
   "outputs": [],
   "execution_count": 1
  },
  {
   "metadata": {
    "ExecuteTime": {
     "end_time": "2024-11-05T21:57:37.767822Z",
     "start_time": "2024-11-05T21:57:37.760282Z"
    }
   },
   "cell_type": "code",
   "source": [
    "def get_odd_target_indicator():\n",
    "    url = 'https://unstats.un.org/sdgs/metadata'\n",
    "    response = requests.get(url)\n",
    "\n",
    "    if response.status_code == 200:\n",
    "        soup = BeautifulSoup(response.content, 'html.parser')\n",
    "        data = []\n",
    "\n",
    "        panels_heading_default = soup.find_all('div', class_=\"panel panel-default\")\n",
    "        \n",
    "        for panel in panels_heading_default:\n",
    "            target_names = []\n",
    "            odd = panel.find('h4').text.strip()\n",
    "            targets = panel.find_all('h5')\n",
    "            target_names.append([t.text.strip() for t in targets])\n",
    "            ul_tags = panel.find_all('ul')\n",
    "            for i in range(len(ul_tags)):\n",
    "                indicators = ul_tags[i].find_all('small')\n",
    "                for indicator in indicators:\n",
    "                    indicator_text = ' '.join(indicator.stripped_strings)\n",
    "                    if indicator_text.startswith(\"Indicator\"):\n",
    "                        parts = indicator_text.split()[1].split('.')\n",
    "                        objectif = int(parts[0])\n",
    "                        cible = parts[1] \n",
    "                        matching_target = next((target for target in target_names[0] if target.startswith(f'Target {objectif}.{cible}:')), None)\n",
    "                        data.append({\n",
    "                            'Objectif': odd.replace('Goal',''),\n",
    "                            'Cible': matching_target.replace('Target',''),\n",
    "                            'Indicateur': indicator_text.replace('Indicator','')\n",
    "                        })\n",
    "        df = pd.DataFrame(data)\n",
    "        # Enregistrer le résultat en csv\n",
    "        df.to_csv('../Other/odd_target_indicator.csv', index=False)\n",
    "        return df\n",
    "\n",
    "    else:\n",
    "        print(\"La requête a échoué avec le code d'état:\", response.status_code)\n",
    "        return None"
   ],
   "id": "86b17dbd086f2691",
   "outputs": [],
   "execution_count": 2
  }
 ],
 "metadata": {
  "kernelspec": {
   "display_name": "Python 3",
   "language": "python",
   "name": "python3"
  },
  "language_info": {
   "codemirror_mode": {
    "name": "ipython",
    "version": 2
   },
   "file_extension": ".py",
   "mimetype": "text/x-python",
   "name": "python",
   "nbconvert_exporter": "python",
   "pygments_lexer": "ipython2",
   "version": "2.7.6"
  }
 },
 "nbformat": 4,
 "nbformat_minor": 5
}
