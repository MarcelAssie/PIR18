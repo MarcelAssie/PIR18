{
 "cells": [
  {
   "metadata": {},
   "cell_type": "markdown",
   "source": "#### Importations des modules",
   "id": "37841a27d8c12fdc"
  },
  {
   "metadata": {
    "ExecuteTime": {
     "end_time": "2024-11-30T11:57:30.411602Z",
     "start_time": "2024-11-30T11:57:30.324844Z"
    }
   },
   "cell_type": "code",
   "source": [
    "import requests, json, re, spacy, pandas as pd\n",
    "from neo4j import GraphDatabase\n",
    "from deep_translator import GoogleTranslator"
   ],
   "id": "5448b8063708abc0",
   "outputs": [],
   "execution_count": 49
  },
  {
   "metadata": {},
   "cell_type": "markdown",
   "source": "#### Configuration de l'API de LM Studio et de l'API de Neo4j",
   "id": "2c2b16a1d8a1b0bd"
  },
  {
   "metadata": {
    "ExecuteTime": {
     "end_time": "2024-11-30T11:57:30.593161Z",
     "start_time": "2024-11-30T11:57:30.502484Z"
    }
   },
   "cell_type": "code",
   "source": [
    "# Configuration API LM Studio\n",
    "API_URL = \"http://localhost:1234/v1/chat/completions\"\n",
    "HEADERS = {\"Content-Type\": \"application/json\"}\n",
    "\n",
    "# Configuration API Neo4j\n",
    "NEO4J_URI = \"bolt://localhost:7687\"\n",
    "NEO4J_USERNAME = \"neo4j\"\n",
    "NEO4J_PASSWORD = \"@Martiale01\"\n",
    "\n",
    "driver = GraphDatabase.driver(NEO4J_URI, auth=(NEO4J_USERNAME, NEO4J_PASSWORD))"
   ],
   "id": "b6165597ca65d9dd",
   "outputs": [],
   "execution_count": 50
  },
  {
   "metadata": {},
   "cell_type": "markdown",
   "source": [
    "#### Fonctions utilisées pour le traitement :\n",
    "- `clean_keywords()`: permet le nettoyage des mots clés extraits\n",
    "- `translate_to_english()` et `translate_to_french()` : permettent la traduction d'une phrases respectivement anglais et français\n",
    "- `compare_keyword_to_keywords()` : permet récupérer tous les mots clés de base de données graphe et d'effectuer une recherche de similitude\n",
    "- `extract_keywords()` : permet d'identifier les mots clés d'une phrase\n",
    "- `reformulate_question()` : permet de reformuler le besoin de l'utilisateur\n",
    "- `search_graph()` : permet de rechercher les mots clés dans la base de données graphe\n",
    "- `create_context_answer()` : permet de créer un context pour le llm afin de générer une réponse basée sur les informations du graphe\n",
    "- `generate_graph_answer()` : permet de générer une réponse à la question de l'utilisateur en se basant sur les informations récupérées\n",
    "- `generate_raw_answer()` : permet de générer une réponse sans informations en appuis"
   ],
   "id": "57eb03e4fdc84f5d"
  },
  {
   "metadata": {
    "ExecuteTime": {
     "end_time": "2024-11-30T11:57:30.689832Z",
     "start_time": "2024-11-30T11:57:30.634795Z"
    }
   },
   "cell_type": "code",
   "source": [
    "def clean_keywords(raw_keywords, max_words=3):\n",
    "    cleaned_keywords = [kw.replace(\"keywords:\", \"\").strip() for kw in raw_keywords]\n",
    "    cleaned_keywords = [kw.lower() for kw in cleaned_keywords]\n",
    "    cleaned_keywords = [kw.strip() for kw in cleaned_keywords]\n",
    "    cleaned_keywords = list(dict.fromkeys(cleaned_keywords))\n",
    "    cleaned_keywords = [kw.replace(\"keywords:\", \"\").strip() for kw in cleaned_keywords]\n",
    "    exclusion_terms = ['sdg', 'sdgs', 'sustainable development', 'indicator', 'sdg indicator', 'keywords', 'keyword']\n",
    "    filtered_keywords = [kw for kw in cleaned_keywords if not any(excluded in kw for excluded in exclusion_terms)]\n",
    "    results = [kw for kw in filtered_keywords if 1 <= len(kw.split()) <= max_words and not re.search(r'\\d+', kw)]\n",
    "    return results"
   ],
   "id": "35a4674306351f68",
   "outputs": [],
   "execution_count": 51
  },
  {
   "metadata": {
    "ExecuteTime": {
     "end_time": "2024-11-30T11:57:30.715319Z",
     "start_time": "2024-11-30T11:57:30.701484Z"
    }
   },
   "cell_type": "code",
   "source": [
    "def translate_to_english(text):\n",
    "    translated = GoogleTranslator(source=\"auto\", target=\"en\").translate(text)\n",
    "    return translated"
   ],
   "id": "dc01569e425b94fe",
   "outputs": [],
   "execution_count": 52
  },
  {
   "metadata": {
    "ExecuteTime": {
     "end_time": "2024-11-30T11:57:30.751183Z",
     "start_time": "2024-11-30T11:57:30.736326Z"
    }
   },
   "cell_type": "code",
   "source": [
    "def translate_to_french(text):\n",
    "    translated = GoogleTranslator(source=\"auto\", target=\"fr\").translate(text)\n",
    "    return translated"
   ],
   "id": "a3e8431640e18954",
   "outputs": [],
   "execution_count": 53
  },
  {
   "metadata": {
    "ExecuteTime": {
     "end_time": "2024-11-30T11:57:30.807423Z",
     "start_time": "2024-11-30T11:57:30.772559Z"
    }
   },
   "cell_type": "code",
   "source": [
    "def extract_keywords(question, model):\n",
    "    # Préparation de la requête\n",
    "    payload = {\n",
    "        \"model\": model,\n",
    "        \"messages\": [\n",
    "        {\"role\": \"system\",\n",
    "         \"content\": \"You are an expert in natural language processing and sustainable development. Your task is to extract only the most relevant keywords from the user's question.\"},\n",
    "        {\"role\": \"user\",\n",
    "         \"content\": f\"\"\"\n",
    "            Extract the most relevant keywords from the following question.\n",
    "            Do not include any explanations, definitions, or irrelevant terms. Return only the keywords as a comma-separated list python.\n",
    "\n",
    "            Question: {question}\"\"\"}\n",
    "        ],\n",
    "        \"max_tokens\": 500,\n",
    "        \"temperature\": 0.0,\n",
    "        \"top_p\": 0.9,\n",
    "    }\n",
    "\n",
    "    # Envoyer la requête\n",
    "    response = requests.post(API_URL, headers=HEADERS, data=json.dumps(payload))\n",
    "\n",
    "    # Gérer la réponse\n",
    "    if response.status_code == 200:\n",
    "        raw_output = response.json()[\"choices\"][0][\"message\"][\"content\"]\n",
    "        # Nettoyer les mots-clés\n",
    "        cleaned_keywords = clean_keywords(raw_output.split(','))\n",
    "        print(\"\\nMots-clés extraits de la question :\", cleaned_keywords)\n",
    "        return cleaned_keywords\n",
    "    else:\n",
    "        print(\"Erreur API :\", response.status_code, response.text)\n",
    "        return []"
   ],
   "id": "af93f1e99148bffd",
   "outputs": [],
   "execution_count": 54
  },
  {
   "metadata": {
    "ExecuteTime": {
     "end_time": "2024-11-30T11:57:30.856714Z",
     "start_time": "2024-11-30T11:57:30.831482Z"
    }
   },
   "cell_type": "code",
   "source": [
    "def compare_keyword_to_keywords(graph_words):\n",
    "\n",
    "    nlp = spacy.load(\"en_core_web_md\")\n",
    "\n",
    "    query = \"\"\"\n",
    "    MATCH (n)\n",
    "    WHERE n:Keyword OR n:Topic\n",
    "    RETURN n.word AS keyword\n",
    "    \"\"\"\n",
    "    keywords = []\n",
    "    with driver.session() as session:\n",
    "        result = session.run(query)\n",
    "        for record in result:\n",
    "            keywords.append(record[\"keyword\"])\n",
    "\n",
    "    global_results = []\n",
    "    for graph_word in graph_words:\n",
    "        token1 = nlp(graph_word)\n",
    "        for word in keywords:\n",
    "            token2 = nlp(word)\n",
    "\n",
    "            if token1.vector_norm > 0 and token2.vector_norm > 0:\n",
    "                similarity = token1.similarity(token2)\n",
    "                if similarity > 0.9:\n",
    "                    global_results.append(word)\n",
    "    keywords = list(dict.fromkeys(global_results))\n",
    "    return keywords"
   ],
   "id": "8ff50b275db1dfa1",
   "outputs": [],
   "execution_count": 55
  },
  {
   "metadata": {
    "ExecuteTime": {
     "end_time": "2024-11-30T11:57:30.907123Z",
     "start_time": "2024-11-30T11:57:30.880620Z"
    }
   },
   "cell_type": "code",
   "source": [
    "def reformulate_question(question, model):\n",
    "    payload = {\n",
    "        \"model\": model,\n",
    "        \"messages\": [\n",
    "        {\"role\": \"system\",\n",
    "         \"content\": \"\"\"\n",
    "         You are an expert in natural language processing. Your task is to reformulate questions to make them clearer, more specific, and easier to extract relevant keywords. The reformulation should explore alternative phrasing while retaining the original meaning.\n",
    "\n",
    "         Examples:\n",
    "         1. Original: \"How can renewable energy help reduce greenhouse gas emissions?\"\n",
    "            Reformulated: \"What role does renewable energy play in decreasing greenhouse gas emissions worldwide?\"\n",
    "\n",
    "         2. Original: \"How can digital tools improve education for children in rural areas?\"\n",
    "            Reformulated: \"In what ways can digital technologies enhance access to quality education in rural regions?\"\n",
    "\n",
    "         Do not provide explanations or extra text—output only the reformulated question as a single sentence.\n",
    "         \"\"\"},\n",
    "        {\"role\": \"user\",\n",
    "         \"content\": f\"\"\"\n",
    "            Reformulate the following question to make it clearer and easier to extract relevant keywords for a knowledge graph search.\n",
    "\n",
    "            Original Question: {question}\n",
    "         \"\"\"}\n",
    "    ],\n",
    "    \"max_tokens\": 100,\n",
    "    \"temperature\": 0.3,\n",
    "    \"top_p\": 0.9,\n",
    "    }\n",
    "\n",
    "    response = requests.post(API_URL, headers=HEADERS, data=json.dumps(payload))\n",
    "\n",
    "    if response.status_code == 200:\n",
    "        return response.json()[\"choices\"][0][\"message\"][\"content\"].strip()\n",
    "    else:\n",
    "        print(\"Erreur API lors de la reformulation :\", response.status_code, response.text)\n",
    "        return question"
   ],
   "id": "a88352a7e5f3da33",
   "outputs": [],
   "execution_count": 56
  },
  {
   "metadata": {
    "ExecuteTime": {
     "end_time": "2024-11-30T11:57:30.989990Z",
     "start_time": "2024-11-30T11:57:30.943976Z"
    }
   },
   "cell_type": "code",
   "source": [
    "def search_graph(keywords):\n",
    "    with driver.session() as session:\n",
    "\n",
    "        # Première requête : rechercher les ODD, cibles et indicateurs liés aux mots-clés\n",
    "        query1 = f\"\"\"\n",
    "        MATCH (s:SDG)-[:contain]->(t:Target)-[:contain]->(i:Indicator)-[:measuredBy]->(k:Keyword)\n",
    "        WHERE k.word IN {keywords}\n",
    "        RETURN s.code AS ODD, s.title AS OddDescription, t.code AS Cible, t.description AS CibleDescription,\n",
    "               i.code AS Indicateur, i.description AS IndicateurDescription, collect(k.word) AS MotsCles\n",
    "        \"\"\"\n",
    "        result1 = session.run(query1)\n",
    "\n",
    "        odd, cible, indicateur, motsCles = [], [], [], []\n",
    "        for record in result1:\n",
    "            if record:\n",
    "                odd.append(f\"{record['ODD']}: {record['OddDescription']}\")\n",
    "                cible.append(f\"{record['Cible']}: {record['CibleDescription']}\")\n",
    "                indicateur.append(f\"{record['Indicateur']}: {record['IndicateurDescription']}\")\n",
    "                motsCles.append(','.join(record[\"MotsCles\"]))\n",
    "\n",
    "        df1 = pd.DataFrame({\n",
    "            \"ODD\": odd,\n",
    "            \"Cible\": cible,\n",
    "            \"Indicateur\": indicateur,\n",
    "            \"Mots-clés\": motsCles\n",
    "        })\n",
    "\n",
    "        # Deuxième requête : rechercher les Goals associés aux mots-clés\n",
    "        query2 = f\"\"\"\n",
    "        MATCH (s:SDG)-[:measuredBy]->(m:Topic)\n",
    "        WHERE m.word IN {keywords}\n",
    "        RETURN s.code AS Goal, collect(m.word) AS MotsCles\n",
    "        \"\"\"\n",
    "        result2 = session.run(query2)\n",
    "\n",
    "        goals, motsClesGoals = [], []\n",
    "        for record in result2:\n",
    "            if record:\n",
    "                goals.append(record[\"Goal\"])\n",
    "                motsClesGoals.append(', '.join(record[\"MotsCles\"]))\n",
    "\n",
    "        df2 = pd.DataFrame({\n",
    "            \"Goal\": goals,\n",
    "            \"Mots-clés\": motsClesGoals\n",
    "        })\n",
    "\n",
    "        df_combined = pd.concat(\n",
    "            [df1, df2],\n",
    "            axis=0,\n",
    "            ignore_index=True\n",
    "        )\n",
    "        display(df_combined)\n",
    "        return df_combined"
   ],
   "id": "983bab4c472a9411",
   "outputs": [],
   "execution_count": 57
  },
  {
   "metadata": {
    "ExecuteTime": {
     "end_time": "2024-11-30T11:57:31.021464Z",
     "start_time": "2024-11-30T11:57:30.999119Z"
    }
   },
   "cell_type": "code",
   "source": [
    "def create_context_answer(df, question):\n",
    "\n",
    "    context = f\"Based on the information extracted from the graph, here is a detailed breakdown:\\n\\n\"\n",
    "\n",
    "    for _, row in df.iterrows():\n",
    "        if pd.isna(row['ODD']) or pd.isna(row['Cible']) or pd.isna(row['Indicateur']):\n",
    "            context += f\"Goal {row['Goal']} which addresses themes such as {row['Mots-clés']}\\n\"\n",
    "            continue\n",
    "\n",
    "        context += f\"Goal {row['ODD']}\\n\"\n",
    "        context += f\"Target {row['Cible']}\\n\"\n",
    "        context += f\"Indicator {row['Indicateur']}\\n\"\n",
    "\n",
    "        context += \"\\n\"\n",
    "\n",
    "    context += f\"To address your question: {question}\\n\\n\"\n",
    "    context += \"Please ensure that your answer is based only on the information provided above, which outlines specific SDGs, targets, and indicators. Use this context to guide your response and explain the correlation between the SDG, the target, and the indicator with the question at hand.\"\n",
    "    return context"
   ],
   "id": "1e3f7d84706b19cc",
   "outputs": [],
   "execution_count": 58
  },
  {
   "metadata": {
    "ExecuteTime": {
     "end_time": "2024-11-30T11:57:31.056679Z",
     "start_time": "2024-11-30T11:57:31.041129Z"
    }
   },
   "cell_type": "code",
   "source": [
    "def generate_graph_answer(context, question, model):\n",
    "\n",
    "    payload = {\n",
    "        \"model\": model,\n",
    "        \"messages\": [\n",
    "            {\"role\": \"system\", \"content\": \"You are an expert in Sustainable Development Goals (SDGs) and provide answers based on extracted data.\"},\n",
    "            {\"role\": \"user\", \"content\": f\"{context}. Now, answer the following question: {question}\"}\n",
    "        ],\n",
    "        \"temperature\": 0.5,\n",
    "        \"max_tokens\": 1000,\n",
    "    }\n",
    "\n",
    "    response = requests.post(API_URL, headers=HEADERS, data=json.dumps(payload))\n",
    "\n",
    "    if response.status_code == 200:\n",
    "        response_translated = translate_to_french(response.json()[\"choices\"][0][\"message\"][\"content\"])\n",
    "        return response_translated\n",
    "    else:\n",
    "        return f\"Error: {response.status_code} - {response.text}\""
   ],
   "id": "7b19e738767527c0",
   "outputs": [],
   "execution_count": 59
  },
  {
   "metadata": {
    "ExecuteTime": {
     "end_time": "2024-11-30T11:57:31.095597Z",
     "start_time": "2024-11-30T11:57:31.079005Z"
    }
   },
   "cell_type": "code",
   "source": [
    "def generate_raw_answer(question, model):\n",
    "    context = f\"\"\"\n",
    "            You are an AI specialized in the Sustainable Development Goals (SDGs).\n",
    "            You must provide accurate, concise, and context-specific answers using your knowledge of the 17 SDGs, their associated targets, and indicators.\n",
    "            Focus your responses only on the question asked, ensuring they align strictly with SDG data and terminology.\n",
    "            Avoid adding any unrelated information or general context beyond what is necessary to answer the question.\n",
    "\n",
    "            If the question references a specific goal, target, or indicator, structure your answer as follows:\n",
    "            1. Briefly explain the goal or indicator if necessary.\n",
    "            2. Provide the specific data or insights related to the question, ensuring alignment with SDG sources.\n",
    "            3. Cite the SDG, target, or indicator explicitly if relevant.\n",
    "\n",
    "            Ensure your answer is structured, clear, and directly addresses the user's inquiry.\n",
    "\n",
    "            Now, answer the following question:\n",
    "            {question}\n",
    "        \"\"\"\n",
    "\n",
    "    payload = {\n",
    "        \"model\": model,\n",
    "        \"messages\": [\n",
    "            {\"role\": \"system\", \"content\": \"You are an expert in SDGs and answer based on accurate data.\"},\n",
    "            {\"role\": \"user\", \"content\": context}\n",
    "        ],\n",
    "        \"temperature\": 0.3,\n",
    "        \"max_tokens\": 1000,\n",
    "    }\n",
    "\n",
    "    response = requests.post(API_URL, headers=HEADERS, data=json.dumps(payload))\n",
    "\n",
    "    if response.status_code == 200:\n",
    "        response_translated = translate_to_french(response.json()[\"choices\"][0][\"message\"][\"content\"])\n",
    "        return response_translated\n",
    "    else:\n",
    "        return f\"Error: {response.status_code} - {response.text}\""
   ],
   "id": "2897ee1ec7276599",
   "outputs": [],
   "execution_count": 60
  },
  {
   "metadata": {},
   "cell_type": "markdown",
   "source": "#### Fonction de lancement du programme",
   "id": "b5ff7fb80d24d0f9"
  },
  {
   "metadata": {
    "ExecuteTime": {
     "end_time": "2024-11-30T11:57:31.192614Z",
     "start_time": "2024-11-30T11:57:31.132591Z"
    }
   },
   "cell_type": "code",
   "source": [
    "# def processing(index, question, model):\n",
    "#\n",
    "#     # Traduction de la question\n",
    "#     translated_question = translate_to_english(question)\n",
    "#     print(f\"\\nQuestion {index+1} : \", translated_question)\n",
    "#\n",
    "#     # Extraction des mots-clés\n",
    "#     keywords = extract_keywords(translated_question, model)\n",
    "#\n",
    "#     # Recherche dans Neo4j et génération de la reponse\n",
    "#     if keywords:\n",
    "#         print(\"\\nRecherche d'informations dans le graphe...\")\n",
    "#         df = search_graph(keywords)\n",
    "#         if df.empty:\n",
    "#             print(\"\\nAucune donnée trouvée dans le graphe. Reformulation de la question...\")\n",
    "#             reformulated_question = reformulate_question(translated_question, model)\n",
    "#             print(f\"\\nQuestion Reformulée : {reformulated_question}\")\n",
    "#             keywords = extract_keywords(reformulated_question, model)\n",
    "#             if keywords:\n",
    "#                 print(\"\\nRecherche d'informations dans le graphe...\")\n",
    "#                 df = search_graph(keywords)\n",
    "#                 if df.empty:\n",
    "#                     print(\"\\nAucune donnée trouvée dans le graphe. Génération d'une réponse brute...\")\n",
    "#                     final_answer = generate_raw_answer(translated_question, model=model)\n",
    "#                     print(f\"\\nQuestion {index+1} : {question} \\n\\nRéponse à la question :\\n\\n{final_answer}\")\n",
    "#                     print(\"\\n------------------------------Fin du traitement------------------------------\")\n",
    "#                 else:\n",
    "#                     print(\"\\nGénération de la réponse à la question...\")\n",
    "#                     context = create_context_answer(df, translated_question)\n",
    "#                     final_answer = generate_graph_answer(context, translated_question, model=model)\n",
    "#                     print(f\"\\nQuestion {index+1} : {question} \\n\\nRéponse à la question :\\n\\n{final_answer}\")\n",
    "#                     print(\"\\n------------------------------Fin du traitement------------------------------\")\n",
    "#             else:\n",
    "#                 print(\"Aucun mot-clé extrait pour la recherche dans Neo4j après reformulation. Fin du traitement\")\n",
    "#         else:\n",
    "#             print(\"\\nGénération de la réponse à la question...\")\n",
    "#             context = create_context_answer(df, translated_question)\n",
    "#             final_answer = generate_graph_answer(context, translated_question, model=model)\n",
    "#             print(f\"\\nQuestion {index+1} : {question} \\n\\nRéponse à la question :\\n\\n{final_answer}\")\n",
    "#             print(\"\\n------------------------------Fin du traitement------------------------------\")\n",
    "#     else:\n",
    "#         print(\"Aucun mot-clé extrait pour la recherche dans Neo4j. Fin du traitement\")\n",
    "\n",
    "def processing(index, question, model):\n",
    "\n",
    "    # Traduction de la question\n",
    "    translated_question = translate_to_english(question)\n",
    "    print(f\"\\nQuestion {index+1} : \", translated_question)\n",
    "\n",
    "    # Extraction des mots-clés\n",
    "    cleaned_keywords = extract_keywords(translated_question, model)\n",
    "\n",
    "    # Recherche dans Neo4j et génération de la reponse\n",
    "    if cleaned_keywords:\n",
    "        print(\"\\nRecherche des mots-clés similaires à plus de 90% dans le graphe...\")\n",
    "        similitudes = compare_keyword_to_keywords(cleaned_keywords)\n",
    "        if similitudes:\n",
    "            print(\"\\nSimilitudes trouvées... Récupération des odd, cibles et indicateurs du graphe...\")\n",
    "            df = search_graph(similitudes)\n",
    "            print(\"\\nGénération de la réponse à la question...\")\n",
    "            context = create_context_answer(df, translated_question)\n",
    "            final_answer = generate_graph_answer(context, translated_question, model=model)\n",
    "            print(f\"\\nQuestion {index+1} : {question} \\n\\nRéponse à la question :\\n\\n{final_answer}\")\n",
    "            print(\"\\n------------------------------Fin du traitement------------------------------\")\n",
    "        else:\n",
    "            print(\"\\nAucune similitude entre les mots clés de la question et ceux du graphe. Reformulation de la question...\")\n",
    "            reformulated_question = reformulate_question(translated_question, model)\n",
    "            print(f\"\\nQuestion Reformulée : {reformulated_question}\")\n",
    "            cleaned_keywords = extract_keywords(reformulated_question, model)\n",
    "            if cleaned_keywords:\n",
    "                print(\"\\nRecherche dans le graphe des mots-clés similaires à plus de 90%...\")\n",
    "                similitudes = compare_keyword_to_keywords(cleaned_keywords)\n",
    "                if similitudes:\n",
    "                    print(\"\\nSimilitudes trouvées... Récupération des odd, cibles et indicateurs du graphe...\")\n",
    "                    df = search_graph(similitudes)\n",
    "                    print(\"\\nGénération de la réponse à la question...\")\n",
    "                    context = create_context_answer(df, translated_question)\n",
    "                    final_answer = generate_graph_answer(context, translated_question, model=model)\n",
    "                    print(f\"\\nQuestion {index+1} : {question} \\n\\nRéponse à la question :\\n\\n{final_answer}\")\n",
    "                    print(\"\\n------------------------------Fin du traitement------------------------------\")\n",
    "                else:\n",
    "                    print(\"\\nAucune similitude entre les mots clés de la question et ceux du graphe. Génération d'une réponse brute...\")\n",
    "                    final_answer = generate_raw_answer(translated_question, model=model)\n",
    "                    print(f\"\\nQuestion {index+1} : {question} \\n\\nRéponse à la question :\\n\\n{final_answer}\")\n",
    "                    print(\"\\n------------------------------Fin du traitement------------------------------\")\n",
    "\n",
    "            else:\n",
    "                print(\"Aucun mot-clé extrait pour la recherche dans Neo4j après reformulation. Fin du traitement\")\n",
    "    else:\n",
    "        print(\"Aucun mot-clé extrait pour la recherche dans Neo4j. Fin du traitement\")"
   ],
   "id": "81801be6154e198",
   "outputs": [],
   "execution_count": 61
  },
  {
   "metadata": {},
   "cell_type": "markdown",
   "source": "#### Tests",
   "id": "c32e8071b64a66fb"
  },
  {
   "metadata": {
    "ExecuteTime": {
     "end_time": "2024-11-30T12:19:54.021938Z",
     "start_time": "2024-11-30T12:19:53.969472Z"
    }
   },
   "cell_type": "code",
   "source": [
    "questions = [\n",
    "    # \"Comment l'accès à des programmes de protection sociale peut-il aider les familles à sortir de la pauvreté extrême ?\",\n",
    "    # \"Comment les technologies agricoles modernes et durables peuvent-elles contribuer à la sécurité alimentaire dans les régions touchées par les changements climatiques ?\",\n",
    "    # \"En quoi l'utilisation des outils numériques peut-elle améliorer l'accès à une éducation de qualité pour les enfants vivant dans les zones rurales ou en situation de conflit ?\",\n",
    "    # \"Quels sont les impacts de l’accès à l’eau potable et à l’assainissement sur la santé publique et le développement économique des communautés rurales ?\",\n",
    "    \"Comment les solutions énergétiques décentralisées, comme les micro-réseaux solaires, peuvent-elles accélérer l'accès à l'énergie dans les communautés hors réseau ?\",\n",
    "    # \"Quelles politiques de conservation des océans peuvent réduire les impacts de la surpêche et promouvoir la durabilité des écosystèmes marins ?\"\n",
    "]"
   ],
   "id": "b84269ec99519909",
   "outputs": [],
   "execution_count": 64
  },
  {
   "metadata": {
    "ExecuteTime": {
     "end_time": "2024-11-30T12:46:02.701799Z",
     "start_time": "2024-11-30T12:19:58.707808Z"
    }
   },
   "cell_type": "code",
   "source": [
    "print(\"\\n ---------------- Traitement en cours avec le modèle llama-2-7b-chat ----------------\")\n",
    "for index, question in enumerate(questions):\n",
    "    processing(index, question, model=\"llama-2-7b-chat\")"
   ],
   "id": "392d122c032d6807",
   "outputs": [
    {
     "name": "stdout",
     "output_type": "stream",
     "text": [
      "\n",
      " ---------------- Traitement en cours avec le modèle llama-2-7b-chat ----------------\n",
      "\n",
      "Question 1 :  How can decentralized energy solutions, like solar microgrids, accelerate energy access in off-grid communities?\n",
      "\n",
      "Mots-clés extraits de la question : ['solar microgrids', 'energy access', 'off-grid communities']\n",
      "\n",
      "Recherche des mots-clés similaires à plus de 90% dans le graphe...\n",
      "\n",
      "Similitudes trouvées... Récupération des odd, cibles et indicateurs du graphe...\n"
     ]
    },
    {
     "data": {
      "text/plain": [
       "   ODD  Cible  Indicateur                                          Mots-clés  \\\n",
       "0  NaN    NaN         NaN  access energy, access energies, electricity ac...   \n",
       "\n",
       "    Goal  \n",
       "0  SDG07  "
      ],
      "text/html": [
       "<div>\n",
       "<style scoped>\n",
       "    .dataframe tbody tr th:only-of-type {\n",
       "        vertical-align: middle;\n",
       "    }\n",
       "\n",
       "    .dataframe tbody tr th {\n",
       "        vertical-align: top;\n",
       "    }\n",
       "\n",
       "    .dataframe thead th {\n",
       "        text-align: right;\n",
       "    }\n",
       "</style>\n",
       "<table border=\"1\" class=\"dataframe\">\n",
       "  <thead>\n",
       "    <tr style=\"text-align: right;\">\n",
       "      <th></th>\n",
       "      <th>ODD</th>\n",
       "      <th>Cible</th>\n",
       "      <th>Indicateur</th>\n",
       "      <th>Mots-clés</th>\n",
       "      <th>Goal</th>\n",
       "    </tr>\n",
       "  </thead>\n",
       "  <tbody>\n",
       "    <tr>\n",
       "      <th>0</th>\n",
       "      <td>NaN</td>\n",
       "      <td>NaN</td>\n",
       "      <td>NaN</td>\n",
       "      <td>access energy, access energies, electricity ac...</td>\n",
       "      <td>SDG07</td>\n",
       "    </tr>\n",
       "  </tbody>\n",
       "</table>\n",
       "</div>"
      ]
     },
     "metadata": {},
     "output_type": "display_data"
    },
    {
     "name": "stdout",
     "output_type": "stream",
     "text": [
      "\n",
      "Génération de la réponse à la question...\n",
      "\n",
      "Question 1 : Comment les solutions énergétiques décentralisées, comme les micro-réseaux solaires, peuvent-elles accélérer l'accès à l'énergie dans les communautés hors réseau ? \n",
      "\n",
      "Réponse à la question :\n",
      "\n",
      "Les solutions énergétiques décentralisées, telles que les micro-réseaux solaires, peuvent accélérer l’accès à l’énergie dans les communautés hors réseau en répondant à plusieurs cibles et indicateurs clés de l’ODD 7. Voici quelques façons dont ces solutions peuvent contribuer à atteindre l’objectif :\n",
      "1. Cible 7.1 : Accroître l’accès universel à l’électricité : les micro-réseaux solaires peuvent fournir un accès fiable et durable à l’électricité aux communautés hors réseau, comblant ainsi le déficit énergétique dans les zones reculées où la connectivité au réseau traditionnel est limitée ou inexistante. Ce faisant, ils contribuent à atteindre la cible 7.1 en fournissant une source d’électricité plus accessible et plus abordable.\n",
      "2. Indicateur 7.1.1 : Proportion de la population ayant accès à l’électricité : les micro-réseaux solaires peuvent améliorer considérablement la proportion de communautés hors réseau ayant accès à l’électricité, contribuant ainsi à la réalisation de l’indicateur 7.1.1. En fournissant une source d’énergie fiable et durable, ces solutions peuvent contribuer à réduire le nombre de personnes n’ayant pas accès à l’électricité, en particulier dans les zones rurales.\n",
      "3. Cible 7.2 : Doubler le taux mondial d’amélioration de l’efficacité énergétique : Les micro-réseaux solaires peuvent contribuer à la cible 7.2 en améliorant l’efficacité énergétique grâce à l’utilisation de technologies avancées telles que les réseaux intelligents et les systèmes de stockage d’énergie. En optimisant la distribution et la consommation d’énergie, ces solutions peuvent aider à réduire le gaspillage d’énergie et à améliorer l’efficacité énergétique globale.\n",
      "4. Indicateur 7.2.1 : Intensité énergétique mesurée en termes d’énergie primaire consommée par unité de PIB : Les micro-réseaux solaires peuvent contribuer à réduire l’intensité énergétique en favorisant l’utilisation de sources d’énergie renouvelables, telles que l’énergie solaire, qui ont une intensité énergétique plus faible que les combustibles fossiles traditionnels. En augmentant la part des énergies renouvelables dans le mix énergétique, ces solutions peuvent contribuer à la réalisation de l’indicateur 7.2.1.\n",
      "5. Cible 7.3 : Augmenter substantiellement la part des énergies renouvelables dans le mix énergétique mondial : Les micro-réseaux solaires peuvent contribuer à atteindre la cible 7.3 en favorisant l’utilisation de l’énergie solaire, qui est une source d’énergie renouvelable et durable. En fournissant une électricité fiable et abordable aux communautés hors réseau, ces solutions peuvent contribuer à accroître la part des énergies renouvelables dans le mix énergétique mondial.\n",
      "6. Indicateur 7.3.1 : Part des énergies renouvelables dans la consommation finale totale d'énergie : Les micro-réseaux solaires peuvent contribuer à la réalisation de l'indicateur 7.3.1 en favorisant l'utilisation de sources d'énergie renouvelables, telles que l'énergie solaire, qui ont une part d'énergie renouvelable plus élevée que les combustibles fossiles traditionnels. En augmentant la part des énergies renouvelables dans le mix énergétique, ces solutions peuvent contribuer à réduire les émissions de gaz à effet de serre et à contribuer au développement durable.\n",
      "7. Cible 7.a : Augmenter le revenu par habitant des pays en développement : Les micro-réseaux solaires peuvent contribuer à la cible 7.a en fournissant une électricité fiable et abordable aux communautés hors réseau, ce qui peut contribuer à améliorer leur productivité économique et à augmenter leur revenu par habitant. En favorisant l'accès à une énergie durable, ces solutions peuvent contribuer à réduire la pauvreté et les inégalités dans les pays en développement.\n",
      "8. Indicateur 7.a.1 : Produit intérieur brut (PIB) par habitant à parité de pouvoir d’achat (PPA) : Les micro-réseaux solaires peuvent contribuer à la réalisation de l’indicateur 7.a.1 en favorisant une croissance économique et un développement durables dans les communautés hors réseau. En fournissant une électricité fiable et abordable, ces solutions peuvent contribuer à augmenter le PIB par habitant et à améliorer le niveau de vie dans les pays en développement.\n",
      "En conclusion, les solutions énergétiques décentralisées comme les micro-réseaux solaires peuvent accélérer l’accès à l’énergie dans les communautés hors réseau en répondant à plusieurs cibles et indicateurs clés de l’ODD 7. En favorisant l’accès durable à l’énergie, en réduisant le gaspillage énergétique, en augmentant la part des énergies renouvelables et en améliorant la productivité économique, ces solutions peuvent aider à atteindre l’objectif d’accès universel à l’électricité et contribuer au développement durable dans les pays en développement.\n",
      "\n",
      "------------------------------Fin du traitement------------------------------\n"
     ]
    }
   ],
   "execution_count": 65
  }
 ],
 "metadata": {
  "kernelspec": {
   "display_name": "Python 3",
   "language": "python",
   "name": "python3"
  },
  "language_info": {
   "codemirror_mode": {
    "name": "ipython",
    "version": 2
   },
   "file_extension": ".py",
   "mimetype": "text/x-python",
   "name": "python",
   "nbconvert_exporter": "python",
   "pygments_lexer": "ipython2",
   "version": "2.7.6"
  }
 },
 "nbformat": 4,
 "nbformat_minor": 5
}
