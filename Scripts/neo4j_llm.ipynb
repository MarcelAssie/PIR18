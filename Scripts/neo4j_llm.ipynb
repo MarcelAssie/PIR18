{
 "cells": [
  {
   "metadata": {
    "ExecuteTime": {
     "end_time": "2024-11-24T14:52:03.159374Z",
     "start_time": "2024-11-24T14:52:01.181634Z"
    }
   },
   "cell_type": "code",
   "source": [
    "import requests, json, re, pandas as pd\n",
    "from neo4j import GraphDatabase\n",
    "from deep_translator import GoogleTranslator"
   ],
   "id": "5448b8063708abc0",
   "outputs": [],
   "execution_count": 1
  },
  {
   "metadata": {
    "ExecuteTime": {
     "end_time": "2024-11-24T14:52:03.171256Z",
     "start_time": "2024-11-24T14:52:03.167255Z"
    }
   },
   "cell_type": "code",
   "source": [
    "# Configuration API LM Studio\n",
    "API_URL = \"http://localhost:1234/v1/chat/completions\"\n",
    "HEADERS = {\"Content-Type\": \"application/json\"}\n",
    "\n",
    "# Configuration API Neo4j\n",
    "NEO4J_URI = \"bolt://localhost:7687\"\n",
    "NEO4J_USERNAME = \"neo4j\"\n",
    "NEO4J_PASSWORD = \"@Martiale01\"\n",
    "\n",
    "driver = GraphDatabase.driver(NEO4J_URI, auth=(NEO4J_USERNAME, NEO4J_PASSWORD))"
   ],
   "id": "5afd23114a37f912",
   "outputs": [],
   "execution_count": 2
  },
  {
   "metadata": {
    "ExecuteTime": {
     "end_time": "2024-11-24T14:52:03.586889Z",
     "start_time": "2024-11-24T14:52:03.582206Z"
    }
   },
   "cell_type": "code",
   "source": [
    "def clean_keywords(raw_keywords, max_words=3):\n",
    "    cleaned_keywords = [kw.replace(\"keywords:\", \"\").strip() for kw in raw_keywords]\n",
    "    cleaned_keywords = [kw.lower() for kw in cleaned_keywords]\n",
    "    cleaned_keywords = [kw.strip() for kw in cleaned_keywords]\n",
    "    cleaned_keywords = list(dict.fromkeys(cleaned_keywords))\n",
    "    cleaned_keywords = [kw.replace(\"keywords:\", \"\").strip() for kw in cleaned_keywords]\n",
    "    exclusion_terms = ['sdg', 'sdgs', 'sustainable development', 'indicator', 'sdg indicator', 'keywords', 'keyword']\n",
    "    filtered_keywords = [kw for kw in cleaned_keywords if not any(excluded in kw for excluded in exclusion_terms)]\n",
    "    results = [kw for kw in filtered_keywords if 1 <= len(kw.split()) <= max_words and not re.search(r'\\d+', kw)]\n",
    "    return results"
   ],
   "id": "35a4674306351f68",
   "outputs": [],
   "execution_count": 3
  },
  {
   "metadata": {
    "ExecuteTime": {
     "end_time": "2024-11-24T14:52:03.601378Z",
     "start_time": "2024-11-24T14:52:03.596429Z"
    }
   },
   "cell_type": "code",
   "source": [
    "def translate_to_english(text):\n",
    "    translated = GoogleTranslator(source=\"auto\", target=\"en\").translate(text)\n",
    "    return translated"
   ],
   "id": "dc01569e425b94fe",
   "outputs": [],
   "execution_count": 4
  },
  {
   "metadata": {
    "ExecuteTime": {
     "end_time": "2024-11-24T14:52:03.615163Z",
     "start_time": "2024-11-24T14:52:03.611314Z"
    }
   },
   "cell_type": "code",
   "source": [
    "def translate_to_french(text):\n",
    "    translated = GoogleTranslator(source=\"auto\", target=\"fr\").translate(text)\n",
    "    return translated"
   ],
   "id": "a3e8431640e18954",
   "outputs": [],
   "execution_count": 5
  },
  {
   "metadata": {
    "ExecuteTime": {
     "end_time": "2024-11-24T14:52:03.630640Z",
     "start_time": "2024-11-24T14:52:03.623912Z"
    }
   },
   "cell_type": "code",
   "source": [
    "def extract_keywords(question, model):\n",
    "    # Préparation de la requête\n",
    "    payload = {\n",
    "        \"model\": model,\n",
    "        \"messages\": [\n",
    "        {\"role\": \"system\",\n",
    "         \"content\": \"You are an expert in natural language processing and sustainable development. Your task is to extract only the most relevant keywords from the user's question.\"},\n",
    "        {\"role\": \"user\",\n",
    "         \"content\": f\"\"\"\n",
    "            Extract the most relevant keywords from the following question.\n",
    "            Do not include any explanations, definitions, or irrelevant terms. Return only the keywords as a comma-separated list python.\n",
    "\n",
    "            Question: {question}\"\"\"}\n",
    "        ],\n",
    "        \"max_tokens\": 500,\n",
    "        \"temperature\": 0.0,\n",
    "        \"top_p\": 0.9,\n",
    "    }\n",
    "\n",
    "    # Envoyer la requête\n",
    "    response = requests.post(API_URL, headers=HEADERS, data=json.dumps(payload))\n",
    "\n",
    "    # Gérer la réponse\n",
    "    if response.status_code == 200:\n",
    "        raw_output = response.json()[\"choices\"][0][\"message\"][\"content\"]\n",
    "        # Nettoyer les mots-clés\n",
    "        cleaned_keywords = clean_keywords(raw_output.split(','))\n",
    "        print(\"\\nMots-clés extraits de la question :\", cleaned_keywords)\n",
    "        return cleaned_keywords\n",
    "    else:\n",
    "        print(\"Erreur API :\", response.status_code, response.text)\n",
    "        return []"
   ],
   "id": "af93f1e99148bffd",
   "outputs": [],
   "execution_count": 6
  },
  {
   "metadata": {
    "ExecuteTime": {
     "end_time": "2024-11-24T14:52:03.645270Z",
     "start_time": "2024-11-24T14:52:03.639101Z"
    }
   },
   "cell_type": "code",
   "source": [
    "def reformulate_question(question, model):\n",
    "    payload = {\n",
    "        \"model\": model,\n",
    "        \"messages\": [\n",
    "        {\"role\": \"system\",\n",
    "         \"content\": \"\"\"\n",
    "         You are an expert in natural language processing. Your task is to reformulate questions to make them clearer, more specific, and easier to extract relevant keywords. The reformulation should explore alternative phrasing while retaining the original meaning.\n",
    "\n",
    "         Examples:\n",
    "         1. Original: \"How can renewable energy help reduce greenhouse gas emissions?\"\n",
    "            Reformulated: \"What role does renewable energy play in decreasing greenhouse gas emissions worldwide?\"\n",
    "\n",
    "         2. Original: \"How can digital tools improve education for children in rural areas?\"\n",
    "            Reformulated: \"In what ways can digital technologies enhance access to quality education in rural regions?\"\n",
    "\n",
    "         Do not provide explanations or extra text—output only the reformulated question as a single sentence.\n",
    "         \"\"\"},\n",
    "        {\"role\": \"user\",\n",
    "         \"content\": f\"\"\"\n",
    "            Reformulate the following question to make it clearer and easier to extract relevant keywords for a knowledge graph search.\n",
    "\n",
    "            Original Question: {question}\n",
    "         \"\"\"}\n",
    "    ],\n",
    "    \"max_tokens\": 100,\n",
    "    \"temperature\": 0.3,\n",
    "    \"top_p\": 0.9,\n",
    "    }\n",
    "\n",
    "    response = requests.post(API_URL, headers=HEADERS, data=json.dumps(payload))\n",
    "\n",
    "    if response.status_code == 200:\n",
    "        return response.json()[\"choices\"][0][\"message\"][\"content\"].strip()\n",
    "    else:\n",
    "        print(\"Erreur API lors de la reformulation :\", response.status_code, response.text)\n",
    "        return question"
   ],
   "id": "a88352a7e5f3da33",
   "outputs": [],
   "execution_count": 7
  },
  {
   "metadata": {
    "ExecuteTime": {
     "end_time": "2024-11-24T14:52:03.657637Z",
     "start_time": "2024-11-24T14:52:03.651736Z"
    }
   },
   "cell_type": "code",
   "source": [
    "def search_graph(keywords):\n",
    "    with driver.session() as session:\n",
    "        # Première requête : rechercher les ODD, cibles et indicateurs liés aux mots-clés\n",
    "        query1 = f\"\"\"\n",
    "        MATCH (o:SDG)-[:contain]->(c:Target)-[:contain]->(i:Indicator)-[:measuredBy]->(m:Keyword)\n",
    "        WHERE m.word IN {keywords}\n",
    "        RETURN o.code AS ODD, o.title AS OddDescription, c.code AS Cible, c.description AS CibleDescription,\n",
    "               i.code AS Indicateur, i.description AS IndicateurDescription, collect(m.word) AS MotsCles\n",
    "        \"\"\"\n",
    "        result1 = session.run(query1)\n",
    "\n",
    "        odd, cible, indicateur, motsCles = [], [], [], []\n",
    "        for record in result1:\n",
    "            if record:\n",
    "                odd.append(f\"{record['ODD']}: {record['OddDescription']}\")\n",
    "                cible.append(f\"{record['Cible']}: {record['CibleDescription']}\")\n",
    "                indicateur.append(f\"{record['Indicateur']}: {record['IndicateurDescription']}\")\n",
    "                motsCles.append(','.join(record[\"MotsCles\"]))\n",
    "\n",
    "        df1 = pd.DataFrame({\n",
    "            \"ODD\": odd,\n",
    "            \"Cible\": cible,\n",
    "            \"Indicateur\": indicateur,\n",
    "            \"Mots-clés\": motsCles\n",
    "        })\n",
    "\n",
    "        # Deuxième requête : rechercher les Goals associés aux mots-clés\n",
    "        query2 = f\"\"\"\n",
    "        MATCH (g:Goal)-[:contain]->(k:Keyword)\n",
    "        WHERE k.word IN {keywords}\n",
    "        RETURN g.title AS Goal, collect(k.word) AS MotsCles\n",
    "        \"\"\"\n",
    "        result2 = session.run(query2)\n",
    "\n",
    "        goals, motsClesGoals = [], []\n",
    "        for record in result2:\n",
    "            if record:\n",
    "                goals.append(record[\"Goal\"])\n",
    "                motsClesGoals.append(', '.join(record[\"MotsCles\"]))\n",
    "\n",
    "        df2 = pd.DataFrame({\n",
    "            \"Goal\": goals,\n",
    "            \"Mots-clés\": motsClesGoals\n",
    "        })\n",
    "\n",
    "        df_combined = pd.concat(\n",
    "            [df1, df2],\n",
    "            axis=0,\n",
    "            ignore_index=True\n",
    "        )\n",
    "        display(df_combined)\n",
    "        return df_combined"
   ],
   "id": "983bab4c472a9411",
   "outputs": [],
   "execution_count": 8
  },
  {
   "metadata": {
    "ExecuteTime": {
     "end_time": "2024-11-24T14:52:03.670229Z",
     "start_time": "2024-11-24T14:52:03.665152Z"
    }
   },
   "cell_type": "code",
   "source": [
    "def create_context_answer(df, question):\n",
    "\n",
    "    context = f\"Based on the information extracted from the graph, here is a detailed breakdown:\\n\\n\"\n",
    "\n",
    "    for _, row in df.iterrows():\n",
    "        if pd.isna(row['ODD']) or pd.isna(row['Cible']) or pd.isna(row['Indicateur']):\n",
    "            context += f\"Goal {row['Goal']} which addresses themes such as {row['Mots-clés']}\\n\"\n",
    "            continue\n",
    "\n",
    "        context += f\"Goal {row['ODD']}\\n\"\n",
    "        context += f\"Target {row['Cible']}\\n\"\n",
    "        context += f\"Indicator {row['Indicateur']}\\n\"\n",
    "\n",
    "        context += \"\\n\"\n",
    "\n",
    "    context += f\"To address your question: {question}\\n\\n\"\n",
    "    context += \"Please ensure that your answer is based only on the information provided above, which outlines specific SDGs, targets, and indicators. Use this context to guide your response and explain the correlation between the SDG, the target, and the indicator with the question at hand.\"\n",
    "    return context"
   ],
   "id": "1e3f7d84706b19cc",
   "outputs": [],
   "execution_count": 9
  },
  {
   "metadata": {
    "ExecuteTime": {
     "end_time": "2024-11-24T14:52:03.681887Z",
     "start_time": "2024-11-24T14:52:03.677126Z"
    }
   },
   "cell_type": "code",
   "source": [
    "def generate_graph_answer(context, question, model):\n",
    "\n",
    "    payload = {\n",
    "        \"model\": model,\n",
    "        \"messages\": [\n",
    "            {\"role\": \"system\", \"content\": \"You are an expert in Sustainable Development Goals (SDGs) and provide answers based on extracted data.\"},\n",
    "            {\"role\": \"user\", \"content\": f\"{context}. Now, answer the following question: {question}\"}\n",
    "        ],\n",
    "        \"temperature\": 0.5,\n",
    "        \"max_tokens\": 1000,\n",
    "    }\n",
    "\n",
    "    response = requests.post(API_URL, headers=HEADERS, data=json.dumps(payload))\n",
    "\n",
    "    if response.status_code == 200:\n",
    "        response_translated = translate_to_french(response.json()[\"choices\"][0][\"message\"][\"content\"])\n",
    "        return response_translated\n",
    "    else:\n",
    "        return f\"Error: {response.status_code} - {response.text}\""
   ],
   "id": "7b19e738767527c0",
   "outputs": [],
   "execution_count": 10
  },
  {
   "metadata": {
    "ExecuteTime": {
     "end_time": "2024-11-24T14:52:03.694315Z",
     "start_time": "2024-11-24T14:52:03.689772Z"
    }
   },
   "cell_type": "code",
   "source": [
    "def generate_raw_answer(question, model):\n",
    "    context = f\"\"\"\n",
    "            You are an AI specialized in the Sustainable Development Goals (SDGs).\n",
    "            You must provide accurate, concise, and context-specific answers using your knowledge of the 17 SDGs, their associated targets, and indicators.\n",
    "            Focus your responses only on the question asked, ensuring they align strictly with SDG data and terminology.\n",
    "            Avoid adding any unrelated information or general context beyond what is necessary to answer the question.\n",
    "\n",
    "            If the question references a specific goal, target, or indicator, structure your answer as follows:\n",
    "            1. Briefly explain the goal or indicator if necessary.\n",
    "            2. Provide the specific data or insights related to the question, ensuring alignment with SDG sources.\n",
    "            3. Cite the SDG, target, or indicator explicitly if relevant.\n",
    "\n",
    "            Ensure your answer is structured, clear, and directly addresses the user's inquiry.\n",
    "\n",
    "            Now, answer the following question:\n",
    "            {question}\n",
    "        \"\"\"\n",
    "\n",
    "    payload = {\n",
    "        \"model\": model,\n",
    "        \"messages\": [\n",
    "            {\"role\": \"system\", \"content\": \"You are an expert in SDGs and answer based on accurate data.\"},\n",
    "            {\"role\": \"user\", \"content\": context}\n",
    "        ],\n",
    "        \"temperature\": 0.3,\n",
    "        \"max_tokens\": 1000,\n",
    "    }\n",
    "\n",
    "    response = requests.post(API_URL, headers=HEADERS, data=json.dumps(payload))\n",
    "\n",
    "    if response.status_code == 200:\n",
    "        response_translated = translate_to_french(response.json()[\"choices\"][0][\"message\"][\"content\"])\n",
    "        return response_translated\n",
    "    else:\n",
    "        return f\"Error: {response.status_code} - {response.text}\""
   ],
   "id": "2897ee1ec7276599",
   "outputs": [],
   "execution_count": 11
  },
  {
   "metadata": {
    "ExecuteTime": {
     "end_time": "2024-11-24T14:52:03.711886Z",
     "start_time": "2024-11-24T14:52:03.702820Z"
    }
   },
   "cell_type": "code",
   "source": [
    "def processing(index, question, model):\n",
    "\n",
    "    # Traduction de la question\n",
    "    translated_question = translate_to_english(question)\n",
    "    print(f\"\\nQuestion {index+1} : \", translated_question)\n",
    "\n",
    "    # Extraction des mots-clés\n",
    "    keywords = extract_keywords(translated_question, model)\n",
    "\n",
    "    # Recherche dans Neo4j et génération de la reponse\n",
    "    if keywords:\n",
    "        print(\"\\nRecherche d'informations dans le graphe...\")\n",
    "        df = search_graph(keywords)\n",
    "        if df.empty:\n",
    "            print(\"\\nAucune donnée trouvée dans le graphe. Reformulation de la question...\")\n",
    "            reformulated_question = reformulate_question(translated_question, model)\n",
    "            print(f\"\\nQuestion Reformulée : {reformulated_question}\")\n",
    "            keywords = extract_keywords(reformulated_question, model)\n",
    "            if keywords:\n",
    "                print(\"\\nRecherche d'informations dans le graphe...\")\n",
    "                df = search_graph(keywords)\n",
    "                if df.empty:\n",
    "                    print(\"\\nAucune donnée trouvée dans le graphe. Génération d'une réponse brute...\")\n",
    "                    final_answer = generate_raw_answer(translated_question, model=model)\n",
    "                    print(f\"\\nQuestion {index+1} : {question} \\n\\nRéponse à la question :\\n\\n{final_answer}\")\n",
    "                    print(\"\\n------------------------------Fin du traitement------------------------------\")\n",
    "                else:\n",
    "                    print(\"\\nGénération de la réponse à la question...\")\n",
    "                    context = create_context_answer(df, translated_question)\n",
    "                    final_answer = generate_graph_answer(context, translated_question, model=model)\n",
    "                    print(f\"\\nQuestion {index+1} : {question} \\n\\nRéponse à la question :\\n\\n{final_answer}\")\n",
    "                    print(\"\\n------------------------------Fin du traitement------------------------------\")\n",
    "            else:\n",
    "                print(\"Aucun mot-clé extrait pour la recherche dans Neo4j après reformulation. Fin du traitement\")\n",
    "        else:\n",
    "            print(\"\\nGénération de la réponse à la question...\")\n",
    "            context = create_context_answer(df, translated_question)\n",
    "            final_answer = generate_graph_answer(context, translated_question, model=model)\n",
    "            print(f\"\\nQuestion {index+1} : {question} \\n\\nRéponse à la question :\\n\\n{final_answer}\")\n",
    "            print(\"\\n------------------------------Fin du traitement------------------------------\")\n",
    "    else:\n",
    "        print(\"Aucun mot-clé extrait pour la recherche dans Neo4j. Fin du traitement\")"
   ],
   "id": "81801be6154e198",
   "outputs": [],
   "execution_count": 12
  },
  {
   "metadata": {
    "ExecuteTime": {
     "end_time": "2024-11-24T14:52:03.749086Z",
     "start_time": "2024-11-24T14:52:03.744396Z"
    }
   },
   "cell_type": "code",
   "source": [
    "questions = [\n",
    "    \"Dans une petite ville en développement, la croissance rapide de la population exerce une pression sur les infrastructures existantes, notamment le logement, les systèmes d'eau potable et l'assainissement. De nombreux enfants n'ont pas accès à une éducation de qualité, et le taux de chômage chez les jeunes est élevé. En parallèle, les conditions climatiques changeantes affectent les agriculteurs locaux, entraînant une baisse des rendements agricoles et des revenus. Si vous deviez élaborer un plan pour améliorer les conditions de vie dans cette ville quelles mesures spécifiques proposeriez-vous pour répondre à ces défis et assurer un développement équitable et durable ?\"\n",
    "]"
   ],
   "id": "b84269ec99519909",
   "outputs": [],
   "execution_count": 13
  },
  {
   "metadata": {
    "ExecuteTime": {
     "end_time": "2024-11-24T14:59:26.621910Z",
     "start_time": "2024-11-24T14:52:03.813721Z"
    }
   },
   "cell_type": "code",
   "source": [
    "print(\"\\n ---------------- Traitement en cours avec le modèle llama-2-7b-chat ----------------\")\n",
    "for index, question in enumerate(questions):\n",
    "    processing(index, question, model=\"llama-2-7b-chat\")"
   ],
   "id": "392d122c032d6807",
   "outputs": [
    {
     "name": "stdout",
     "output_type": "stream",
     "text": [
      "\n",
      " ---------------- Traitement en cours avec le modèle llama-2-7b-chat ----------------\n",
      "\n",
      "Question 1 :  In a small, developing city, rapid population growth is putting pressure on existing infrastructure, including housing, clean water and sanitation. Many children lack access to quality education, and youth unemployment is high. At the same time, changing climate conditions are affecting local farmers, leading to declining crop yields and incomes. If you were to develop a plan to improve living conditions in this city, what specific measures would you propose to address these challenges and ensure equitable and sustainable development?\n",
      "\n",
      "Mots-clés extraits de la question : ['infrastructure', 'housing', 'clean water', 'sanitation', 'education', 'youth unemployment', 'climate change', 'farming', 'equity', 'sustainability.']\n",
      "\n",
      "Recherche d'informations dans le graphe...\n"
     ]
    },
    {
     "data": {
      "text/plain": [
       "   ODD  Cible  Indicateur                Mots-clés   Goal\n",
       "0  NaN    NaN         NaN         farming, housing  SDG11\n",
       "1  NaN    NaN         NaN           climate change  SDG13\n",
       "2  NaN    NaN         NaN                   equity  SDG16\n",
       "3  NaN    NaN         NaN                education   SDG4\n",
       "4  NaN    NaN         NaN  clean water, sanitation   SDG6\n",
       "5  NaN    NaN         NaN       youth unemployment   SDG8\n",
       "6  NaN    NaN         NaN           infrastructure   SDG9"
      ],
      "text/html": [
       "<div>\n",
       "<style scoped>\n",
       "    .dataframe tbody tr th:only-of-type {\n",
       "        vertical-align: middle;\n",
       "    }\n",
       "\n",
       "    .dataframe tbody tr th {\n",
       "        vertical-align: top;\n",
       "    }\n",
       "\n",
       "    .dataframe thead th {\n",
       "        text-align: right;\n",
       "    }\n",
       "</style>\n",
       "<table border=\"1\" class=\"dataframe\">\n",
       "  <thead>\n",
       "    <tr style=\"text-align: right;\">\n",
       "      <th></th>\n",
       "      <th>ODD</th>\n",
       "      <th>Cible</th>\n",
       "      <th>Indicateur</th>\n",
       "      <th>Mots-clés</th>\n",
       "      <th>Goal</th>\n",
       "    </tr>\n",
       "  </thead>\n",
       "  <tbody>\n",
       "    <tr>\n",
       "      <th>0</th>\n",
       "      <td>NaN</td>\n",
       "      <td>NaN</td>\n",
       "      <td>NaN</td>\n",
       "      <td>farming, housing</td>\n",
       "      <td>SDG11</td>\n",
       "    </tr>\n",
       "    <tr>\n",
       "      <th>1</th>\n",
       "      <td>NaN</td>\n",
       "      <td>NaN</td>\n",
       "      <td>NaN</td>\n",
       "      <td>climate change</td>\n",
       "      <td>SDG13</td>\n",
       "    </tr>\n",
       "    <tr>\n",
       "      <th>2</th>\n",
       "      <td>NaN</td>\n",
       "      <td>NaN</td>\n",
       "      <td>NaN</td>\n",
       "      <td>equity</td>\n",
       "      <td>SDG16</td>\n",
       "    </tr>\n",
       "    <tr>\n",
       "      <th>3</th>\n",
       "      <td>NaN</td>\n",
       "      <td>NaN</td>\n",
       "      <td>NaN</td>\n",
       "      <td>education</td>\n",
       "      <td>SDG4</td>\n",
       "    </tr>\n",
       "    <tr>\n",
       "      <th>4</th>\n",
       "      <td>NaN</td>\n",
       "      <td>NaN</td>\n",
       "      <td>NaN</td>\n",
       "      <td>clean water, sanitation</td>\n",
       "      <td>SDG6</td>\n",
       "    </tr>\n",
       "    <tr>\n",
       "      <th>5</th>\n",
       "      <td>NaN</td>\n",
       "      <td>NaN</td>\n",
       "      <td>NaN</td>\n",
       "      <td>youth unemployment</td>\n",
       "      <td>SDG8</td>\n",
       "    </tr>\n",
       "    <tr>\n",
       "      <th>6</th>\n",
       "      <td>NaN</td>\n",
       "      <td>NaN</td>\n",
       "      <td>NaN</td>\n",
       "      <td>infrastructure</td>\n",
       "      <td>SDG9</td>\n",
       "    </tr>\n",
       "  </tbody>\n",
       "</table>\n",
       "</div>"
      ]
     },
     "metadata": {},
     "output_type": "display_data"
    },
    {
     "name": "stdout",
     "output_type": "stream",
     "text": [
      "\n",
      "Génération de la réponse à la question...\n",
      "\n",
      "Question 1 : Dans une petite ville en développement, la croissance rapide de la population exerce une pression sur les infrastructures existantes, notamment le logement, les systèmes d'eau potable et l'assainissement. De nombreux enfants n'ont pas accès à une éducation de qualité, et le taux de chômage chez les jeunes est élevé. En parallèle, les conditions climatiques changeantes affectent les agriculteurs locaux, entraînant une baisse des rendements agricoles et des revenus. Si vous deviez élaborer un plan pour améliorer les conditions de vie dans cette ville quelles mesures spécifiques proposeriez-vous pour répondre à ces défis et assurer un développement équitable et durable ? \n",
      "\n",
      "Réponse à la question :\n",
      "\n",
      "Sur la base des informations fournies, je proposerais les mesures suivantes pour relever les défis auxquels est confrontée la petite ville en développement :\n",
      "\n",
      "1. **ODD 11 : Rendre les villes et les établissements humains inclusifs, sûrs, résilients et durables**\n",
      "* Proposer le développement d'options de logement abordables pour les familles à faible revenu, y compris des solutions de logement préfabriquées ou modulaires qui peuvent être rapidement déployées pour faire face à la croissance démographique rapide de la ville.\n",
      "* Investir dans des initiatives de planification et de conception urbaines qui donnent la priorité aux espaces verts, aux parcs publics et aux jardins communautaires pour promouvoir un mode de vie durable et réduire la pression sur les infrastructures existantes.\n",
      "* Mettre en œuvre des stratégies de réduction et de gestion des risques de catastrophe, notamment des matériaux de construction résistants aux inondations et des plans d'intervention d'urgence, pour assurer la résilience de la ville face aux conditions climatiques changeantes.\n",
      "2. **ODD 13 : Prendre des mesures urgentes pour lutter contre le changement climatique et ses impacts**\n",
      "* Soutenir les agriculteurs locaux dans la transition vers des pratiques agricoles durables, telles que l'agriculture biologique et l'agroforesterie, pour réduire leur empreinte carbone et améliorer le rendement des cultures.\n",
      "* Investir dans des sources d'énergie renouvelables, comme l'énergie solaire ou éolienne, pour remplacer les combustibles fossiles et réduire la dépendance de la ville aux sources d'énergie non renouvelables.\n",
      "* Promouvoir des options de transport durables, notamment des véhicules électriques ou hybrides, des infrastructures cyclables et des systèmes de transport public, pour réduire les émissions de gaz à effet de serre provenant des transports.\n",
      "3. **ODD 16 : Promouvoir des sociétés pacifiques et inclusives**\n",
      "* Élaborer des programmes visant à réduire les inégalités et à promouvoir l'inclusion sociale, notamment des initiatives d'éducation et de formation professionnelle pour les groupes défavorisés, tels que les femmes, les jeunes et les communautés marginalisées.\n",
      "* Mettre en œuvre des mécanismes de résolution des conflits et promouvoir l'engagement et la participation de la communauté aux processus décisionnels pour favoriser une société pacifique et inclusive.\n",
      "4. **ODD 4 : Assurer une éducation de qualité inclusive et équitable**\n",
      "* Investir dans l'élargissement de l'accès à une éducation de qualité, notamment le développement des infrastructures, la formation des enseignants et la réforme des programmes pour remédier au manque d'accès à une éducation de qualité pour de nombreux enfants de la ville.\n",
      "* Mettre en œuvre des programmes de développement de la petite enfance pour soutenir le développement cognitif et socio-émotionnel des jeunes enfants, en particulier ceux issus de milieux défavorisés.\n",
      "5. **ODD 6 : Assurer l'accès de tous à l'eau et à l'assainissement et assurer une gestion durable de ces ressources**\n",
      "* Élaborer et mettre en œuvre des stratégies de conservation de l'eau, notamment des systèmes d'irrigation efficaces et des technologies de récupération des eaux de pluie, afin de réduire la consommation d'eau de la ville et d'atténuer l'impact des changements climatiques sur les ressources en eau.\n",
      "* Mettre en œuvre des initiatives de gestion des déchets, notamment des programmes de recyclage et des installations de compostage, afin de réduire la production de déchets de la ville et de promouvoir une utilisation durable des ressources.\n",
      "6. **ODD 8 : Promouvoir une croissance économique soutenue, inclusive et durable**\n",
      "* Élaborer et mettre en œuvre des stratégies de création d'emplois, telles que des programmes de microfinance et des initiatives de soutien à l'entrepreneuriat, pour remédier au chômage élevé des jeunes dans la ville.\n",
      "* Investir dans le développement des infrastructures, notamment des systèmes de transport et des équipements collectifs, afin de créer un environnement propice aux entreprises et de promouvoir la croissance économique.\n",
      "7. **ODD 9 : Construire des infrastructures résilientes, promouvoir une industrialisation inclusive et durable**\n",
      "* Élaborer et mettre en œuvre des projets d'infrastructure qui privilégient la durabilité et la résilience, tels que des matériaux de construction résistants aux inondations et des bâtiments écologiques.\n",
      "* Promouvoir un développement industriel durable, notamment en investissant dans les technologies d'énergie renouvelable et dans des processus de production respectueux de l'environnement, afin de réduire l'empreinte environnementale de la ville et de promouvoir une croissance économique inclusive.\n",
      "En relevant ces défis grâce à un plan global qui intègre les ODD, la petite ville en développement peut œuvrer à la réalisation d'un développement durable et équitable pour tous ses habitants.\n",
      "\n",
      "------------------------------Fin du traitement------------------------------\n"
     ]
    }
   ],
   "execution_count": 14
  }
 ],
 "metadata": {
  "kernelspec": {
   "display_name": "Python 3",
   "language": "python",
   "name": "python3"
  },
  "language_info": {
   "codemirror_mode": {
    "name": "ipython",
    "version": 2
   },
   "file_extension": ".py",
   "mimetype": "text/x-python",
   "name": "python",
   "nbconvert_exporter": "python",
   "pygments_lexer": "ipython2",
   "version": "2.7.6"
  }
 },
 "nbformat": 4,
 "nbformat_minor": 5
}
