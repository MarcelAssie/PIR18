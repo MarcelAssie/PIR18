{
 "cells": [
  {
   "metadata": {
    "ExecuteTime": {
     "end_time": "2024-11-20T00:02:26.683944Z",
     "start_time": "2024-11-20T00:02:26.115223Z"
    }
   },
   "cell_type": "code",
   "source": [
    "import os, sys, time, pandas as pd\n",
    "from IPython.display import display"
   ],
   "id": "1675a87a",
   "outputs": [],
   "execution_count": 1
  },
  {
   "metadata": {
    "ExecuteTime": {
     "end_time": "2024-11-20T00:02:36.334695Z",
     "start_time": "2024-11-20T00:02:26.689372Z"
    }
   },
   "cell_type": "code",
   "source": [
    "sys.path.append(os.path.abspath('..'))\n",
    "from Scripts.toolbox import processing, addTitles"
   ],
   "id": "e2031656456a43a3",
   "outputs": [
    {
     "name": "stderr",
     "output_type": "stream",
     "text": [
      "C:\\Users\\jeanm\\Desktop\\Ensg\\Semestre3\\ProjetRecherche\\PIR18\\venv\\Lib\\site-packages\\tqdm\\auto.py:21: TqdmWarning: IProgress not found. Please update jupyter and ipywidgets. See https://ipywidgets.readthedocs.io/en/stable/user_install.html\n",
      "  from .autonotebook import tqdm as notebook_tqdm\n"
     ]
    },
    {
     "name": "stdout",
     "output_type": "stream",
     "text": [
      "The token has not been saved to the git credentials helper. Pass `add_to_git_credential=True` in this function directly or `--add-to-git-credential` if using via `huggingface-cli` if you want to set the git credential as well.\n",
      "Token is valid (permission: fineGrained).\n",
      "Your token has been saved to C:\\Users\\jeanm\\.cache\\huggingface\\token\n",
      "Login successful\n"
     ]
    }
   ],
   "execution_count": 2
  },
  {
   "metadata": {
    "ExecuteTime": {
     "end_time": "2024-11-20T00:02:36.599371Z",
     "start_time": "2024-11-20T00:02:36.595138Z"
    }
   },
   "cell_type": "code",
   "source": [
    "# Création du dossier de résultats\n",
    "results_path = \"../Output/DataLLM\"\n",
    "os.makedirs(results_path, exist_ok=True)"
   ],
   "id": "b60d8e2e6d3e4532",
   "outputs": [],
   "execution_count": 3
  },
  {
   "cell_type": "code",
   "id": "85847c70",
   "metadata": {
    "ExecuteTime": {
     "end_time": "2024-11-20T00:02:36.630291Z",
     "start_time": "2024-11-20T00:02:36.624338Z"
    }
   },
   "source": [
    "def entities_extractions(dossier, model):\n",
    "    \n",
    "    start_time = time.time()\n",
    "    \n",
    "    # Récupération du numéro du dossier ODD (derniers deux chiffres)\n",
    "    odd_number = dossier[-2:]\n",
    "    \n",
    "    print(f\"\\nDébut de traitement de l'ODD {odd_number}...\")\n",
    "\n",
    "    # Liste des fichiers texte à traiter\n",
    "    txt_files = [fichier for fichier in os.listdir(dossier)\n",
    "                 if fichier.endswith(\".txt\") and \"keywords\" not in fichier]\n",
    "\n",
    "    keywords_ODD = []\n",
    "\n",
    "    for txt_file in txt_files:\n",
    "        keywords = processing(odd_number, f\"{dossier}/{txt_file}\", model)\n",
    "        keywords_ODD.extend(keywords)\n",
    "    \n",
    "        \n",
    "    # Stockage des résultats en dataframe\n",
    "    df = pd.DataFrame(keywords_ODD, columns=[\"ODD\", \"Cible\", \"Indicateur\", \"Mots-cles\"])\n",
    "\n",
    "    # Ajout des titres des ODD, Cibles et Indicateurs\n",
    "    df = addTitles(df)\n",
    "\n",
    "    # Afficher les résultats\n",
    "    display(df)\n",
    "    \n",
    "    # Exporter les données en csv\n",
    "    df.to_csv(f\"{results_path}/ODD{odd_number}_keywords.csv\", index=False)\n",
    "   \n",
    "    end_time = time.time()\n",
    "    duree = end_time - start_time\n",
    "    print(f\"...Fin de traitement de l'ODD {odd_number}\\nDurée d'exécution : {duree:.4f} secondes.\\n\")\n",
    "    \n",
    "    return df"
   ],
   "outputs": [],
   "execution_count": 4
  },
  {
   "metadata": {
    "ExecuteTime": {
     "end_time": "2024-11-20T00:02:36.638343Z",
     "start_time": "2024-11-20T00:02:36.634990Z"
    }
   },
   "cell_type": "code",
   "source": [
    "# model1= \"mistral-7b-instruct-v0.1.Q4_K_M.gguf\"\n",
    "model2 = \"mistral-7b-instruct-v0.1.Q5_K_M.gguf\"\n",
    "# entities_extractions(\"../MetaData/ODD01\", model2)"
   ],
   "id": "c59b2b67706e088d",
   "outputs": [],
   "execution_count": 5
  },
  {
   "cell_type": "code",
   "id": "9badf116",
   "metadata": {
    "jupyter": {
     "is_executing": true
    },
    "ExecuteTime": {
     "start_time": "2024-11-20T00:02:36.648275Z"
    }
   },
   "source": [
    "if __name__ == \"__main__\":\n",
    "    # Exécution de tous les ODD\n",
    "    path = \"../MetaData\"\n",
    "    odd_files = os.listdir(path)\n",
    "    for odd_file in odd_files:\n",
    "        entities_extractions(f\"{path}/{odd_file}\", model2)\n",
    "        print(\"----------------------------------------------------------------------------------------------------------\")"
   ],
   "outputs": [
    {
     "name": "stdout",
     "output_type": "stream",
     "text": [
      "\n",
      "Début de traitement de l'ODD 01...\n"
     ]
    },
    {
     "name": "stderr",
     "output_type": "stream",
     "text": [
      "Fetching 1 files: 100%|██████████| 1/1 [00:00<?, ?it/s]\n",
      "Fetching 1 files: 100%|██████████| 1/1 [00:00<?, ?it/s]\n",
      "CTransformersModel has generative capabilities, as `prepare_inputs_for_generation` is explicitly overwritten. However, it doesn't directly inherit from `GenerationMixin`. From 👉v4.50👈 onwards, `PreTrainedModel` will NOT inherit from `GenerationMixin`, and this model will lose the ability to call `generate` and other related functions.\n",
      "  - If you're using `trust_remote_code=True`, you can get rid of this warning by loading the model with an auto class. See https://huggingface.co/docs/transformers/en/model_doc/auto#auto-classes\n",
      "  - If you are the owner of the model architecture code, please modify your model class such that it inherits from `GenerationMixin` (after `PreTrainedModel`, otherwise you'll get an exception).\n",
      "  - If you are not the owner of the model architecture class, please contact the model code owner to update it.\n"
     ]
    }
   ],
   "execution_count": null
  }
 ],
 "metadata": {
  "kernelspec": {
   "display_name": "Python 3 (ipykernel)",
   "language": "python",
   "name": "python3"
  },
  "language_info": {
   "codemirror_mode": {
    "name": "ipython",
    "version": 3
   },
   "file_extension": ".py",
   "mimetype": "text/x-python",
   "name": "python",
   "nbconvert_exporter": "python",
   "pygments_lexer": "ipython3",
   "version": "3.12.7"
  }
 },
 "nbformat": 4,
 "nbformat_minor": 5
}
