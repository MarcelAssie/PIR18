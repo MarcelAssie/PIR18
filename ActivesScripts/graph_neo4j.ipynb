{
 "cells": [
  {
   "cell_type": "code",
   "id": "initial_id",
   "metadata": {
    "collapsed": true
   },
   "source": [
    "import pandas as pd\n",
    "from py2neo import Graph"
   ],
   "outputs": [],
   "execution_count": null
  },
  {
   "metadata": {},
   "cell_type": "code",
   "source": [
    "file_path = \"../OutputDatallm/ODD01_keywords.csv\"\n",
    "df = pd.read_csv(file_path)\n",
    "print(df.head())"
   ],
   "id": "479a84e98d463b48",
   "outputs": [],
   "execution_count": null
  },
  {
   "metadata": {},
   "cell_type": "code",
   "source": "graph = Graph(\"bolt://localhost:7687\", auth=(\"neo4j\", \"@Martiale01\"))",
   "id": "9e2989283b9813e2",
   "outputs": [],
   "execution_count": null
  },
  {
   "metadata": {},
   "cell_type": "code",
   "source": [
    "for _, row in df.iterrows():\n",
    "    od = row['ODD']\n",
    "    cible = row['Cible']\n",
    "    indicateur = row['Indicateur']\n",
    "    mot_cle = row['Mots-cles']\n",
    "\n",
    "    # J'ai utilisé MERGE au lieu de CREAT afin de créer les nœuds ODD, Cible, Indicateur, Mots-clés sans doublons. Si le noeud existe déjà, il ne sera pas recréé\n",
    "    graph.run(f\"MERGE (o:ODD {{titre: '{od}'}})\")\n",
    "    graph.run(f\"MERGE (c:Cible {{titre: '{cible}'}})\")\n",
    "    graph.run(f\"MERGE (i:Indicateur {{code: '{indicateur}'}})\")\n",
    "    graph.run(f\"MERGE (m:MotCle {{mot: '{mot_cle}'}})\")\n",
    "\n",
    "    # Les relations entre les nœuds\n",
    "    graph.run(f\"\"\"\n",
    "    MATCH (o:ODD {{titre: '{od}'}}), (c:Cible {{titre: '{cible}'}}), \n",
    "          (i:Indicateur {{code: '{indicateur}'}}), (m:MotCle {{mot: '{mot_cle}'}})\n",
    "    MERGE (o)-[:CONTIENT]->(c)\n",
    "    MERGE (c)-[:CONTIENT]->(i)\n",
    "    MERGE (i)-[:CONTIENT]->(m)\n",
    "    \"\"\")"
   ],
   "id": "3ffc13fcfa323007",
   "outputs": [],
   "execution_count": null
  }
 ],
 "metadata": {
  "kernelspec": {
   "display_name": "Python 3",
   "language": "python",
   "name": "python3"
  },
  "language_info": {
   "codemirror_mode": {
    "name": "ipython",
    "version": 2
   },
   "file_extension": ".py",
   "mimetype": "text/x-python",
   "name": "python",
   "nbconvert_exporter": "python",
   "pygments_lexer": "ipython2",
   "version": "2.7.6"
  }
 },
 "nbformat": 4,
 "nbformat_minor": 5
}
