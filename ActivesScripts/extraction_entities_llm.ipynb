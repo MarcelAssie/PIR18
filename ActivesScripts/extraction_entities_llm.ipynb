{
 "cells": [
  {
   "metadata": {
    "ExecuteTime": {
     "end_time": "2024-10-23T03:00:01.571123Z",
     "start_time": "2024-10-23T02:59:50.042504Z"
    }
   },
   "cell_type": "code",
   "source": [
    "import os, sys, time\n",
    "import pandas as pd\n",
    "sys.path.append(os.path.abspath('..'))\n",
    "from ActivesScripts.toolbox import start\n",
    "from IPython.display import display\n"
   ],
   "id": "1675a87a",
   "outputs": [],
   "execution_count": 1
  },
  {
   "metadata": {
    "ExecuteTime": {
     "end_time": "2024-10-23T03:00:01.582170Z",
     "start_time": "2024-10-23T03:00:01.576129Z"
    }
   },
   "cell_type": "code",
   "source": [
    "# Création du dossier de résultats\n",
    "results_path = \"../OutputDatallm\"\n",
    "os.makedirs(results_path, exist_ok=True)"
   ],
   "id": "b60d8e2e6d3e4532",
   "outputs": [],
   "execution_count": 2
  },
  {
   "cell_type": "code",
   "id": "85847c70",
   "metadata": {
    "ExecuteTime": {
     "end_time": "2024-10-23T03:00:01.889196Z",
     "start_time": "2024-10-23T03:00:01.881996Z"
    }
   },
   "source": [
    "def entities_extractions(dossier, model= \"mistral-7b-instruct-v0.1.Q4_K_M.gguf\"):\n",
    "    \n",
    "    start_time = time.time()\n",
    "    \n",
    "    # Récupération du numéro du dossier ODD (derniers deux chiffres)\n",
    "    odd_number = dossier[-2:]\n",
    "    \n",
    "    print(f\"\\nDébut de traitement de l'ODD {odd_number}...\")\n",
    "\n",
    "    # Liste des fichiers texte à traiter\n",
    "    txt_files = [fichier for fichier in os.listdir(dossier)\n",
    "                 if fichier.endswith(\".txt\") and \"keywords\" not in fichier]\n",
    "\n",
    "    keywords_ODD = []\n",
    "\n",
    "    for txt_file in txt_files:\n",
    "        keywords = start(odd_number, f\"{dossier}/{txt_file}\", model)\n",
    "        keywords_ODD.extend(keywords)\n",
    "    \n",
    "        \n",
    "    # Stockage des résultats en dataframe\n",
    "    df = pd.DataFrame(keywords_ODD, columns=[\"ODD\", \"Cible\", \"Mots-cles\"])\n",
    "    display(df)\n",
    "    \n",
    "    # Exporter les données en csv\n",
    "    df.to_csv(f\"{results_path}/ODD{odd_number}_keywords.csv\", index=False)\n",
    "   \n",
    "    end_time = time.time()\n",
    "    duree = end_time - start_time\n",
    "    print(f\"...Fin de traitement de l'ODD {odd_number}\\nDurée d'exécution : {duree:.4f} secondes.\\n\")\n",
    "    \n",
    "    return df\n",
    "\n",
    "\n"
   ],
   "outputs": [],
   "execution_count": 3
  },
  {
   "metadata": {
    "ExecuteTime": {
     "end_time": "2024-10-23T03:00:01.901484Z",
     "start_time": "2024-10-23T03:00:01.897335Z"
    }
   },
   "cell_type": "code",
   "source": [
    "model = \"mistral-7b-instruct-v0.1.Q5_K_M.gguf\"\n",
    "# entities_extractions(\"../MedaDocx/ODD04\", model)"
   ],
   "id": "c59b2b67706e088d",
   "outputs": [],
   "execution_count": 4
  },
  {
   "cell_type": "code",
   "id": "9badf116",
   "metadata": {
    "jupyter": {
     "is_executing": true
    },
    "ExecuteTime": {
     "start_time": "2024-10-23T03:00:01.911189Z"
    }
   },
   "source": [
    "if __name__ == \"__main__\":\n",
    "    # Exécution de tous les ODD\n",
    "    path = \"../MedaDocx\"\n",
    "    odd_files = os.listdir(path)\n",
    "    for odd_file in odd_files:\n",
    "        entities_extractions(f\"{path}/{odd_file}\", model)\n",
    "        print(\"----------------------------------------------------------------------------------------------------------\")\n"
   ],
   "outputs": [
    {
     "name": "stdout",
     "output_type": "stream",
     "text": [
      "\n",
      "Début de traitement de l'ODD 01...\n"
     ]
    },
    {
     "data": {
      "text/plain": [
       "Fetching 1 files:   0%|          | 0/1 [00:00<?, ?it/s]"
      ],
      "application/vnd.jupyter.widget-view+json": {
       "version_major": 2,
       "version_minor": 0,
       "model_id": "940b879c8f4044c8ae541bbdf22eedc0"
      }
     },
     "metadata": {},
     "output_type": "display_data"
    },
    {
     "data": {
      "text/plain": [
       "Fetching 1 files:   0%|          | 0/1 [00:00<?, ?it/s]"
      ],
      "application/vnd.jupyter.widget-view+json": {
       "version_major": 2,
       "version_minor": 0,
       "model_id": "3657e18c112c4d8d94c6bf65be8fff5a"
      }
     },
     "metadata": {},
     "output_type": "display_data"
    },
    {
     "name": "stderr",
     "output_type": "stream",
     "text": [
      "CTransformersModel has generative capabilities, as `prepare_inputs_for_generation` is explicitly overwritten. However, it doesn't directly inherit from `GenerationMixin`. From 👉v4.50👈 onwards, `PreTrainedModel` will NOT inherit from `GenerationMixin`, and this model will lose the ability to call `generate` and other related functions.\n",
      "  - If you're using `trust_remote_code=True`, you can get rid of this warning by loading the model with an auto class. See https://huggingface.co/docs/transformers/en/model_doc/auto#auto-classes\n",
      "  - If you are the owner of the model architecture code, please modify your model class such that it inherits from `GenerationMixin` (after `PreTrainedModel`, otherwise you'll get an exception).\n",
      "  - If you are not the owner of the model architecture class, please contact the model code owner to update it.\n"
     ]
    }
   ],
   "execution_count": null
  }
 ],
 "metadata": {
  "kernelspec": {
   "display_name": "Python 3 (ipykernel)",
   "language": "python",
   "name": "python3"
  },
  "language_info": {
   "codemirror_mode": {
    "name": "ipython",
    "version": 3
   },
   "file_extension": ".py",
   "mimetype": "text/x-python",
   "name": "python",
   "nbconvert_exporter": "python",
   "pygments_lexer": "ipython3",
   "version": "3.12.7"
  }
 },
 "nbformat": 4,
 "nbformat_minor": 5
}
