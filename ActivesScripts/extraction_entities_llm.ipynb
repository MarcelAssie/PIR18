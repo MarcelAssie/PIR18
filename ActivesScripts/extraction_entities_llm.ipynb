{
 "cells": [
  {
   "metadata": {},
   "cell_type": "code",
   "source": [
    "import os, sys\n",
    "import pandas as pd\n",
    "sys.path.append(os.path.abspath('..'))\n",
    "from ActivesScripts.toolbox import start \n",
    "import time\n",
    "from IPython.display import display\n"
   ],
   "id": "1675a87a",
   "outputs": [],
   "execution_count": null
  },
  {
   "metadata": {},
   "cell_type": "code",
   "source": [
    "# Création du dossier de résultats\n",
    "results_path = \"../OutputDatallm\"\n",
    "os.makedirs(results_path, exist_ok=True)"
   ],
   "id": "b60d8e2e6d3e4532",
   "outputs": [],
   "execution_count": null
  },
  {
   "cell_type": "code",
   "id": "85847c70",
   "metadata": {},
   "source": [
    "def entities_extractions(dossier, model= \"mistral-7b-instruct-v0.1.Q4_K_M.gguf\"):\n",
    "    \n",
    "    start_time = time.time()\n",
    "    \n",
    "    # Récupération du numéro du dossier ODD (derniers deux chiffres)\n",
    "    odd_number = dossier[-2:]\n",
    "    \n",
    "    # Création du dossier du ODD dans le dossier de résultats\n",
    "    dossier_path = f\"{results_path}/ODD{odd_number}\"\n",
    "    os.makedirs(dossier_path, exist_ok=True)\n",
    "    \n",
    "    print(f\"\\nDébut de traitement de l'ODD {odd_number}...\")\n",
    "\n",
    "    # Liste des fichiers texte à traiter\n",
    "    txt_files = [fichier for fichier in os.listdir(dossier)\n",
    "                 if fichier.endswith(\".txt\") and \"keywords\" not in fichier]\n",
    "\n",
    "    keywords_ODD = []\n",
    "\n",
    "    for txt_file in txt_files:\n",
    "        keywords = start(odd_number, f\"{dossier}/{txt_file}\", model)\n",
    "        keywords_ODD.extend(keywords)\n",
    "\n",
    "    # Stockage des résultats en dataframe\n",
    "    df = pd.DataFrame(keywords_ODD, columns=[\"ODD\", \"Cible\", \"Mots-cles\"])\n",
    "    display(df)\n",
    "    \n",
    "    # Exporter les données en csv\n",
    "    df.to_csv(f\"{dossier_path}/ODD{odd_number}_keywords.csv\", index=False)\n",
    "   \n",
    "    end_time = time.time()\n",
    "    duree = end_time - start_time\n",
    "    print(f\"...Fin de traitement de l'ODD {odd_number}\\nDurée d'exécution : {duree:.4f} secondes.\\n\")\n",
    "    \n",
    "    return df\n",
    "\n",
    "\n"
   ],
   "outputs": [],
   "execution_count": null
  },
  {
   "metadata": {},
   "cell_type": "code",
   "source": [
    "# model = \"mistral-7b-instruct-v0.1.Q4_K_M.gguf\"\n",
    "# entities_extractions(\"../MedaDocx/ODD01\", model)"
   ],
   "id": "c59b2b67706e088d",
   "outputs": [],
   "execution_count": null
  },
  {
   "cell_type": "code",
   "id": "9badf116",
   "metadata": {},
   "source": [
    "if __name__ == \"__main__\":\n",
    "    # Exécution de tous les ODD\n",
    "    path = \"../MedaDocx\"\n",
    "    odd_files = os.listdir(path)\n",
    "    for odd_file in odd_files:\n",
    "        entities_extractions(f\"{path}/{odd_file}\")\n",
    "        print(\"----------------------------------------------------------------------------------------------------------\")\n"
   ],
   "outputs": [],
   "execution_count": null
  }
 ],
 "metadata": {
  "kernelspec": {
   "display_name": "Python 3 (ipykernel)",
   "language": "python",
   "name": "python3"
  },
  "language_info": {
   "codemirror_mode": {
    "name": "ipython",
    "version": 3
   },
   "file_extension": ".py",
   "mimetype": "text/x-python",
   "name": "python",
   "nbconvert_exporter": "python",
   "pygments_lexer": "ipython3",
   "version": "3.12.7"
  }
 },
 "nbformat": 4,
 "nbformat_minor": 5
}
