{
 "cells": [
  {
   "cell_type": "code",
   "id": "initial_id",
   "metadata": {
    "collapsed": true,
    "ExecuteTime": {
     "end_time": "2024-11-06T05:54:16.740758Z",
     "start_time": "2024-11-06T05:54:15.849769Z"
    }
   },
   "source": [
    "import pandas as pd\n",
    "from py2neo import Graph"
   ],
   "outputs": [],
   "execution_count": 1
  },
  {
   "metadata": {
    "ExecuteTime": {
     "end_time": "2024-11-06T06:06:31.086585Z",
     "start_time": "2024-11-06T06:06:31.074260Z"
    }
   },
   "cell_type": "code",
   "source": [
    "file_path = \"../OutputDatallm/ODD04_keywords.csv\"\n",
    "df = pd.read_csv(file_path)\n",
    "\n",
    "# Ces 2 lignes ne devraient plus être necessaire normalement, puisque lors de la génération du nouveau fichier csv, j'y tiens déjà compte\n",
    "# df['Cible'] = df['Cible'].apply(lambda x: f\"Cible 04-{x.split(' ')[1]}\")\n",
    "# df['Indicateur'] = df['Indicateur'].apply(lambda x: f\"Indicateur {x}\")\n",
    "print(df.head())"
   ],
   "id": "479a84e98d463b48",
   "outputs": [
    {
     "name": "stdout",
     "output_type": "stream",
     "text": [
      "     ODD        Cible           Indicateur          Mots-cles\n",
      "0  ODD04  Cible 04-01  Indicateur 04-01-01       young people\n",
      "1  ODD04  Cible 04-01  Indicateur 04-01-01  proficiency level\n",
      "2  ODD04  Cible 04-01  Indicateur 04-01-01  primary education\n",
      "3  ODD04  Cible 04-01  Indicateur 04-01-01    gender equality\n",
      "4  ODD04  Cible 04-01  Indicateur 04-01-01        clean water\n"
     ]
    }
   ],
   "execution_count": 6
  },
  {
   "metadata": {
    "ExecuteTime": {
     "end_time": "2024-11-06T05:54:17.398677Z",
     "start_time": "2024-11-06T05:54:17.311021Z"
    }
   },
   "cell_type": "code",
   "source": "graph = Graph(\"bolt://localhost:7687\", auth=(\"neo4j\", \"@Martiale01\"))",
   "id": "9e2989283b9813e2",
   "outputs": [],
   "execution_count": 3
  },
  {
   "metadata": {
    "ExecuteTime": {
     "end_time": "2024-11-06T05:54:19.544647Z",
     "start_time": "2024-11-06T05:54:17.418634Z"
    }
   },
   "cell_type": "code",
   "source": [
    "for _, row in df.iterrows():\n",
    "    od = row['ODD']\n",
    "    cible = row['Cible']\n",
    "    indicateur = row['Indicateur']\n",
    "    mot_cle = row['Mots-cles']\n",
    "\n",
    "    # J'ai utilisé MERGE au lieu de CREAT afin de créer les nœuds ODD, Cible, Indicateur, Mots-clés sans doublons. Si le noeud existe déjà, il ne sera pas recréé\n",
    "    graph.run(f\"MERGE (o:ODD {{titre: '{od}'}})\")\n",
    "    graph.run(f\"MERGE (c:Cible {{titre: '{cible}'}})\")\n",
    "    graph.run(f\"MERGE (i:Indicateur {{code: '{indicateur}'}})\")\n",
    "    graph.run(f\"MERGE (m:MotCle {{mot: '{mot_cle}'}})\")\n",
    "\n",
    "    # Les relations entre les nœuds\n",
    "    graph.run(f\"\"\"\n",
    "    MATCH (o:ODD {{titre: '{od}'}}), (c:Cible {{titre: '{cible}'}}), \n",
    "          (i:Indicateur {{code: '{indicateur}'}}), (m:MotCle {{mot: '{mot_cle}'}})\n",
    "    MERGE (o)-[:CONTIENT]->(c)\n",
    "    MERGE (c)-[:CONTIENT]->(i)\n",
    "    MERGE (i)-[:CONTIENT]->(m)\n",
    "    \"\"\")"
   ],
   "id": "3ffc13fcfa323007",
   "outputs": [],
   "execution_count": 4
  }
 ],
 "metadata": {
  "kernelspec": {
   "display_name": "Python 3",
   "language": "python",
   "name": "python3"
  },
  "language_info": {
   "codemirror_mode": {
    "name": "ipython",
    "version": 2
   },
   "file_extension": ".py",
   "mimetype": "text/x-python",
   "name": "python",
   "nbconvert_exporter": "python",
   "pygments_lexer": "ipython2",
   "version": "2.7.6"
  }
 },
 "nbformat": 4,
 "nbformat_minor": 5
}
