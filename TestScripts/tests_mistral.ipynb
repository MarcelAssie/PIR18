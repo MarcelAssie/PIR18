{
 "cells": [
  {
   "cell_type": "code",
   "id": "284d12b5ea8926f9",
   "metadata": {
    "ExecuteTime": {
     "end_time": "2024-10-23T09:13:46.763817Z",
     "start_time": "2024-10-23T09:12:54.221410Z"
    }
   },
   "source": [
    "from ctransformers import AutoModelForCausalLM\n",
    "from huggingface_hub import login\n",
    "from transformers import AutoTokenizer, pipeline\n",
    "from keybert.llm import TextGeneration\n",
    "from keybert import KeyLLM\n",
    "import pandas as pd\n",
    "import os, re\n",
    "import time\n"
   ],
   "outputs": [],
   "execution_count": 1
  },
  {
   "cell_type": "code",
   "id": "1bc398dad530b82c",
   "metadata": {
    "ExecuteTime": {
     "end_time": "2024-10-23T09:13:47.839383Z",
     "start_time": "2024-10-23T09:13:46.792374Z"
    }
   },
   "source": [
    "def login_hf():\n",
    "    file_path = \"C:/Users/jeanm/Desktop/Ensg/Semestre3/Projet_Recherche/Ressources\"\n",
    "    api_keys = [api_keys for api_keys in os.listdir(file_path) if \"api_keys\" in api_keys]\n",
    "    with open(f\"{file_path}/{api_keys[0]}\", 'r', encoding='utf-8') as file:\n",
    "        file = file.read()\n",
    "        hugging_face_api_key= file.split(\"\\n\")[3]\n",
    "        return hugging_face_api_key\n",
    "    \n",
    "login(token=login_hf())"
   ],
   "outputs": [],
   "execution_count": 2
  },
  {
   "cell_type": "code",
   "id": "initial_id",
   "metadata": {
    "collapsed": true,
    "jupyter": {
     "outputs_hidden": true
    },
    "ExecuteTime": {
     "end_time": "2024-10-23T09:13:49.264652Z",
     "start_time": "2024-10-23T09:13:49.200862Z"
    }
   },
   "source": [
    "\n",
    "# Fonction pour lire le contenu d'un fichier texte\n",
    "def read_txt_file(file_path):\n",
    "    with open(file_path, 'r', encoding='utf-8') as file:\n",
    "        return file.read()\n",
    "\n",
    "# Fonction pour découper un texte en morceaux de 512 tokens\n",
    "def chunk_text(text):\n",
    "    paragraphs = text.split(\"\\n\")  \n",
    "    results = []\n",
    "    for paragraph in paragraphs:\n",
    "        if paragraph.strip():\n",
    "            results.append(paragraph)\n",
    "    return results\n",
    "\n",
    "# Fonction pour extraire les mots-clés\n",
    "def extract_keywords_from_chunks(chunks, test_model):\n",
    "    \n",
    "    # Charger le modèle et le tokenizer\n",
    "    model = AutoModelForCausalLM.from_pretrained(\n",
    "        \"TheBloke/Mistral-7B-Instruct-v0.1-GGUF\",\n",
    "        model_file=test_model,\n",
    "        model_type=\"mistral\",\n",
    "        gpu_layers=0,\n",
    "        hf=True\n",
    "    )\n",
    "    \n",
    "    tokenizer = AutoTokenizer.from_pretrained(\"mistralai/Mistral-7B-Instruct-v0.1\")\n",
    "    \n",
    "    generator = pipeline(\n",
    "        model=model,\n",
    "        tokenizer=tokenizer,\n",
    "        task='text-generation',\n",
    "        max_new_tokens=50,\n",
    "        repetition_penalty=1.1\n",
    "    )\n",
    "    \n",
    "    # Prompt pour extraire les mots-clés\n",
    "    keyword_prompt = \"\"\"\n",
    "    [INST]\n",
    "    \n",
    "    I have the following document:\n",
    "    - [DOCUMENT]\n",
    "    \n",
    "    Please extract only the keywords related to the Sustainable Development Goals (SDGs) that are explicitly mentioned in this document. \n",
    "    The keywords should consist of 2 to 3 words and should be meaningful within the context of this document. \n",
    "    Ensure that the keywords are derived solely from the text provided and do not include any external references or interpretations. \n",
    "    Return the keywords in a structured and readable format, without adding any extra explanations or phrases such as:\n",
    "    \"Here are the keywords present in the document.\"\n",
    "    [/INST]\n",
    "    \n",
    "    \"\"\"\n",
    "    keywords = []\n",
    "    count = 0\n",
    "    for chunk in chunks:\n",
    "        count += 1\n",
    "        print(f\"Traitement du paragraphe {count} sur {len(chunks)}\")\n",
    "        prompt = keyword_prompt.replace(\"[DOCUMENT]\", chunk)\n",
    "        llm = TextGeneration(generator, prompt=prompt)\n",
    "        kw_model = KeyLLM(llm)\n",
    "        extracted_keywords = kw_model.extract_keywords([chunk])\n",
    "\n",
    "        # Nettoyage préliminaire des mots-clés extraits\n",
    "        cleaned_keywords = [kw.replace('* ', '').strip() for kw in extracted_keywords[0][0].split('\\n') if kw]\n",
    "        keywords.append(cleaned_keywords)\n",
    "        print(f\"Fin de traitement du paragraghe {count}\")\n",
    "    return keywords\n",
    "\n",
    "\n",
    "def clean_keywords(keywords, max_words=2):\n",
    "    # Étape 1: Nettoyer les mots-clés des  \n",
    "    cleaned_keywords = []\n",
    "    for kw in keywords:\n",
    "        cleaned_kw = kw.lstrip('- ').strip()  \n",
    "        cleaned_keywords.append(cleaned_kw)    \n",
    "\n",
    "    # Étape 2: Supprimer les doublons tout en conservant l'ordre\n",
    "    cleaned_keywords = list(dict.fromkeys([kw.lower() for kw in cleaned_keywords]))\n",
    "\n",
    "    # Etape 3 : Retirer les numéros et points\n",
    "    filtered_keywords = [re.sub(r\"^\\d+\\.\\s*\", \"\", keyword) for keyword in cleaned_keywords]\n",
    "    \n",
    "    # Retirer les mots-clés contenant 'SGB' ou 'SGBS' et 'Sustainable Development'\n",
    "    filtered_keywords = [kw for kw in filtered_keywords if kw.lower() not in ['sdg','sdgs', 'sustainable development']]\n",
    "\n",
    "    # Étape 4: Filtrer par nombre de mots\n",
    "    results = []\n",
    "    for kw in filtered_keywords:\n",
    "        if  len(kw.split()) == max_words:\n",
    "            results.append(kw)\n",
    "            \n",
    "    return results\n",
    "\n",
    "\n",
    "\n",
    "def start(txt_file, model):\n",
    "    \n",
    "    start_time = time.time()\n",
    "    print(f\"Debut de traitement avec le modèle {model}...\\n\")\n",
    "    \n",
    "    # Charger le fichier texte\n",
    "    document_content = read_txt_file(txt_file[0])\n",
    "    \n",
    "    # Découper le texte en paragraphes\n",
    "    chunks = chunk_text(document_content)\n",
    "    \n",
    "    # Extraire les mots-clés de chaque morceau\n",
    "    keywords = extract_keywords_from_chunks(chunks, model)\n",
    "    \n",
    "     # Aplatir les mots-clés dans une unique liste\n",
    "    list_keywords = [keyword for sublist in keywords for keyword in sublist]\n",
    "    \n",
    "    # Nettoyer les mots-clés\n",
    "    cleaned_keywords = clean_keywords(list_keywords)\n",
    "    \n",
    "    # Créer un DataFrame avec les mots-clés détectés\n",
    "    keywords_df = pd.DataFrame(list_keywords, columns=[\"Keywords Detected\"])\n",
    "    \n",
    "    # Créer un DataFrame avec les mots-clés nettoyés\n",
    "    cleaned_keywords_df = pd.DataFrame(cleaned_keywords, columns=[\"Keywords Cleaned\"])\n",
    "\n",
    "    # Ajouter une colonne avec les mots-clés nettoyés, alignée sur les mots-clés détectés\n",
    "    keywords_df[\"Keywords Cleaned\"] = pd.Series(cleaned_keywords_df[\"Keywords Cleaned\"].values)\n",
    "\n",
    "    end_time = time.time()\n",
    "    duree = end_time - start_time\n",
    "    print(f\"\\n...Fin de traitement avec le modèle {model}\\nDurée d'exécution : {duree:.4f} secondes.\\n\")\n",
    "    # display(keywords_df) \n",
    "   \n",
    "    return keywords_df\n",
    "\n"
   ],
   "outputs": [],
   "execution_count": 3
  },
  {
   "cell_type": "code",
   "id": "324ceef0701a8665",
   "metadata": {
    "ExecuteTime": {
     "end_time": "2024-10-23T09:17:51.670439Z",
     "start_time": "2024-10-23T09:13:49.376859Z"
    }
   },
   "source": [
    "model1 = \"mistral-7b-instruct-v0.1.Q4_K_M.gguf\"\n",
    "txt_file = [fichier for fichier in os.listdir() if fichier.lower().endswith('.txt')and \"Metadata\" in fichier]\n",
    "start(txt_file, model1)"
   ],
   "outputs": [
    {
     "name": "stdout",
     "output_type": "stream",
     "text": [
      "Debut de traitement avec le modèle mistral-7b-instruct-v0.1.Q4_K_M.gguf...\n",
      "\n"
     ]
    },
    {
     "data": {
      "text/plain": [
       "Fetching 1 files:   0%|          | 0/1 [00:00<?, ?it/s]"
      ],
      "application/vnd.jupyter.widget-view+json": {
       "version_major": 2,
       "version_minor": 0,
       "model_id": "cf1d385a49114229ba4da0c999a627ba"
      }
     },
     "metadata": {},
     "output_type": "display_data"
    },
    {
     "data": {
      "text/plain": [
       "Fetching 1 files:   0%|          | 0/1 [00:00<?, ?it/s]"
      ],
      "application/vnd.jupyter.widget-view+json": {
       "version_major": 2,
       "version_minor": 0,
       "model_id": "19135f8a325f4a9db5f27947a075dda0"
      }
     },
     "metadata": {},
     "output_type": "display_data"
    },
    {
     "name": "stderr",
     "output_type": "stream",
     "text": [
      "CTransformersModel has generative capabilities, as `prepare_inputs_for_generation` is explicitly overwritten. However, it doesn't directly inherit from `GenerationMixin`. From 👉v4.50👈 onwards, `PreTrainedModel` will NOT inherit from `GenerationMixin`, and this model will lose the ability to call `generate` and other related functions.\n",
      "  - If you're using `trust_remote_code=True`, you can get rid of this warning by loading the model with an auto class. See https://huggingface.co/docs/transformers/en/model_doc/auto#auto-classes\n",
      "  - If you are the owner of the model architecture code, please modify your model class such that it inherits from `GenerationMixin` (after `PreTrainedModel`, otherwise you'll get an exception).\n",
      "  - If you are not the owner of the model architecture class, please contact the model code owner to update it.\n"
     ]
    },
    {
     "name": "stdout",
     "output_type": "stream",
     "text": [
      "Traitement du paragraphe 1 sur 4\n",
      "Fin de traitement du paragraghe 1\n",
      "Traitement du paragraphe 2 sur 4\n",
      "Fin de traitement du paragraghe 2\n",
      "Traitement du paragraphe 3 sur 4\n",
      "Fin de traitement du paragraghe 3\n",
      "Traitement du paragraphe 4 sur 4\n",
      "Fin de traitement du paragraghe 4\n",
      "\n",
      "...Fin de traitement avec le modèle mistral-7b-instruct-v0.1.Q4_K_M.gguf\n",
      "Durée d'exécution : 242.2268 secondes.\n",
      "\n"
     ]
    },
    {
     "data": {
      "text/plain": [
       "                  Keywords Detected   Keywords Cleaned\n",
       "0                         Keywords:        clean fuels\n",
       "1                      - Population        solid fuels\n",
       "2                     - Clean fuels    non-solid fuels\n",
       "3                      - Technology  emissions targets\n",
       "4                         - Cooking                NaN\n",
       "5                         - Heating                NaN\n",
       "6                        - Lighting                NaN\n",
       "7           - Emission rate targets                NaN\n",
       "8   - Specific fuel recommendations                NaN\n",
       "9                         Keywords:                NaN\n",
       "10         - Global data collection                NaN\n",
       "11            - Clean cooking fuels                NaN\n",
       "12                    - Solid fuels                NaN\n",
       "13                - Non-solid fuels                NaN\n",
       "14                      - Polluting                NaN\n",
       "15                     - Non-modern                NaN\n",
       "16                           - Home                NaN\n",
       "17                        Keywords:                NaN\n",
       "18                            - WHO                NaN\n",
       "19                     - Guidelines                NaN\n",
       "20             - Indoor Air Quality                NaN\n",
       "21      - Household Fuel Combustion                NaN\n",
       "22              - Emissions Targets                NaN\n",
       "23                          - Fuels                NaN\n",
       "24                     - Technology                NaN\n",
       "25                        Keywords:                NaN\n",
       "26                    - Clean fuels                NaN\n",
       "27                   - Technologies                NaN\n",
       "28                         - Health                NaN\n",
       "29                          - Nexus                NaN\n",
       "30       - Modern cooking solutions                NaN\n",
       "31                         - Access                NaN\n",
       "32                       - Counting                NaN\n",
       "33                      - Realizing                NaN"
      ],
      "text/html": [
       "<div>\n",
       "<style scoped>\n",
       "    .dataframe tbody tr th:only-of-type {\n",
       "        vertical-align: middle;\n",
       "    }\n",
       "\n",
       "    .dataframe tbody tr th {\n",
       "        vertical-align: top;\n",
       "    }\n",
       "\n",
       "    .dataframe thead th {\n",
       "        text-align: right;\n",
       "    }\n",
       "</style>\n",
       "<table border=\"1\" class=\"dataframe\">\n",
       "  <thead>\n",
       "    <tr style=\"text-align: right;\">\n",
       "      <th></th>\n",
       "      <th>Keywords Detected</th>\n",
       "      <th>Keywords Cleaned</th>\n",
       "    </tr>\n",
       "  </thead>\n",
       "  <tbody>\n",
       "    <tr>\n",
       "      <th>0</th>\n",
       "      <td>Keywords:</td>\n",
       "      <td>clean fuels</td>\n",
       "    </tr>\n",
       "    <tr>\n",
       "      <th>1</th>\n",
       "      <td>- Population</td>\n",
       "      <td>solid fuels</td>\n",
       "    </tr>\n",
       "    <tr>\n",
       "      <th>2</th>\n",
       "      <td>- Clean fuels</td>\n",
       "      <td>non-solid fuels</td>\n",
       "    </tr>\n",
       "    <tr>\n",
       "      <th>3</th>\n",
       "      <td>- Technology</td>\n",
       "      <td>emissions targets</td>\n",
       "    </tr>\n",
       "    <tr>\n",
       "      <th>4</th>\n",
       "      <td>- Cooking</td>\n",
       "      <td>NaN</td>\n",
       "    </tr>\n",
       "    <tr>\n",
       "      <th>5</th>\n",
       "      <td>- Heating</td>\n",
       "      <td>NaN</td>\n",
       "    </tr>\n",
       "    <tr>\n",
       "      <th>6</th>\n",
       "      <td>- Lighting</td>\n",
       "      <td>NaN</td>\n",
       "    </tr>\n",
       "    <tr>\n",
       "      <th>7</th>\n",
       "      <td>- Emission rate targets</td>\n",
       "      <td>NaN</td>\n",
       "    </tr>\n",
       "    <tr>\n",
       "      <th>8</th>\n",
       "      <td>- Specific fuel recommendations</td>\n",
       "      <td>NaN</td>\n",
       "    </tr>\n",
       "    <tr>\n",
       "      <th>9</th>\n",
       "      <td>Keywords:</td>\n",
       "      <td>NaN</td>\n",
       "    </tr>\n",
       "    <tr>\n",
       "      <th>10</th>\n",
       "      <td>- Global data collection</td>\n",
       "      <td>NaN</td>\n",
       "    </tr>\n",
       "    <tr>\n",
       "      <th>11</th>\n",
       "      <td>- Clean cooking fuels</td>\n",
       "      <td>NaN</td>\n",
       "    </tr>\n",
       "    <tr>\n",
       "      <th>12</th>\n",
       "      <td>- Solid fuels</td>\n",
       "      <td>NaN</td>\n",
       "    </tr>\n",
       "    <tr>\n",
       "      <th>13</th>\n",
       "      <td>- Non-solid fuels</td>\n",
       "      <td>NaN</td>\n",
       "    </tr>\n",
       "    <tr>\n",
       "      <th>14</th>\n",
       "      <td>- Polluting</td>\n",
       "      <td>NaN</td>\n",
       "    </tr>\n",
       "    <tr>\n",
       "      <th>15</th>\n",
       "      <td>- Non-modern</td>\n",
       "      <td>NaN</td>\n",
       "    </tr>\n",
       "    <tr>\n",
       "      <th>16</th>\n",
       "      <td>- Home</td>\n",
       "      <td>NaN</td>\n",
       "    </tr>\n",
       "    <tr>\n",
       "      <th>17</th>\n",
       "      <td>Keywords:</td>\n",
       "      <td>NaN</td>\n",
       "    </tr>\n",
       "    <tr>\n",
       "      <th>18</th>\n",
       "      <td>- WHO</td>\n",
       "      <td>NaN</td>\n",
       "    </tr>\n",
       "    <tr>\n",
       "      <th>19</th>\n",
       "      <td>- Guidelines</td>\n",
       "      <td>NaN</td>\n",
       "    </tr>\n",
       "    <tr>\n",
       "      <th>20</th>\n",
       "      <td>- Indoor Air Quality</td>\n",
       "      <td>NaN</td>\n",
       "    </tr>\n",
       "    <tr>\n",
       "      <th>21</th>\n",
       "      <td>- Household Fuel Combustion</td>\n",
       "      <td>NaN</td>\n",
       "    </tr>\n",
       "    <tr>\n",
       "      <th>22</th>\n",
       "      <td>- Emissions Targets</td>\n",
       "      <td>NaN</td>\n",
       "    </tr>\n",
       "    <tr>\n",
       "      <th>23</th>\n",
       "      <td>- Fuels</td>\n",
       "      <td>NaN</td>\n",
       "    </tr>\n",
       "    <tr>\n",
       "      <th>24</th>\n",
       "      <td>- Technology</td>\n",
       "      <td>NaN</td>\n",
       "    </tr>\n",
       "    <tr>\n",
       "      <th>25</th>\n",
       "      <td>Keywords:</td>\n",
       "      <td>NaN</td>\n",
       "    </tr>\n",
       "    <tr>\n",
       "      <th>26</th>\n",
       "      <td>- Clean fuels</td>\n",
       "      <td>NaN</td>\n",
       "    </tr>\n",
       "    <tr>\n",
       "      <th>27</th>\n",
       "      <td>- Technologies</td>\n",
       "      <td>NaN</td>\n",
       "    </tr>\n",
       "    <tr>\n",
       "      <th>28</th>\n",
       "      <td>- Health</td>\n",
       "      <td>NaN</td>\n",
       "    </tr>\n",
       "    <tr>\n",
       "      <th>29</th>\n",
       "      <td>- Nexus</td>\n",
       "      <td>NaN</td>\n",
       "    </tr>\n",
       "    <tr>\n",
       "      <th>30</th>\n",
       "      <td>- Modern cooking solutions</td>\n",
       "      <td>NaN</td>\n",
       "    </tr>\n",
       "    <tr>\n",
       "      <th>31</th>\n",
       "      <td>- Access</td>\n",
       "      <td>NaN</td>\n",
       "    </tr>\n",
       "    <tr>\n",
       "      <th>32</th>\n",
       "      <td>- Counting</td>\n",
       "      <td>NaN</td>\n",
       "    </tr>\n",
       "    <tr>\n",
       "      <th>33</th>\n",
       "      <td>- Realizing</td>\n",
       "      <td>NaN</td>\n",
       "    </tr>\n",
       "  </tbody>\n",
       "</table>\n",
       "</div>"
      ]
     },
     "execution_count": 4,
     "metadata": {},
     "output_type": "execute_result"
    }
   ],
   "execution_count": 4
  },
  {
   "cell_type": "code",
   "id": "aeed054142689ce9",
   "metadata": {
    "jupyter": {
     "is_executing": true
    },
    "ExecuteTime": {
     "start_time": "2024-10-23T09:17:51.790608Z"
    }
   },
   "source": [
    "model2 = \"mistral-7b-instruct-v0.1.Q5_K_M.gguf\"\n",
    "start(txt_file, model2)"
   ],
   "outputs": [
    {
     "name": "stdout",
     "output_type": "stream",
     "text": [
      "Debut de traitement avec le modèle mistral-7b-instruct-v0.1.Q5_K_M.gguf...\n",
      "\n"
     ]
    },
    {
     "data": {
      "text/plain": [
       "Fetching 1 files:   0%|          | 0/1 [00:00<?, ?it/s]"
      ],
      "application/vnd.jupyter.widget-view+json": {
       "version_major": 2,
       "version_minor": 0,
       "model_id": "43eec4457b9747cba3f337867da7d5ac"
      }
     },
     "metadata": {},
     "output_type": "display_data"
    },
    {
     "data": {
      "text/plain": [
       "Fetching 1 files:   0%|          | 0/1 [00:00<?, ?it/s]"
      ],
      "application/vnd.jupyter.widget-view+json": {
       "version_major": 2,
       "version_minor": 0,
       "model_id": "d62714d7276a44f395b9518d3620bf6c"
      }
     },
     "metadata": {},
     "output_type": "display_data"
    },
    {
     "name": "stdout",
     "output_type": "stream",
     "text": [
      "Traitement du paragraphe 1 sur 4\n",
      "Fin de traitement du paragraghe 1\n",
      "Traitement du paragraphe 2 sur 4\n",
      "Fin de traitement du paragraghe 2\n",
      "Traitement du paragraphe 3 sur 4\n"
     ]
    }
   ],
   "execution_count": null
  }
 ],
 "metadata": {
  "kernelspec": {
   "display_name": "Python 3 (ipykernel)",
   "language": "python",
   "name": "python3"
  },
  "language_info": {
   "codemirror_mode": {
    "name": "ipython",
    "version": 3
   },
   "file_extension": ".py",
   "mimetype": "text/x-python",
   "name": "python",
   "nbconvert_exporter": "python",
   "pygments_lexer": "ipython3",
   "version": "3.12.7"
  }
 },
 "nbformat": 4,
 "nbformat_minor": 5
}
